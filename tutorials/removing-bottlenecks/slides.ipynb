{
 "cells": [
  {
   "cell_type": "code",
   "execution_count": 1,
   "id": "f5e4ca46-23e7-4bc6-a49f-8ed36e611c43",
   "metadata": {
    "slideshow": {
     "slide_type": "skip"
    },
    "tags": []
   },
   "outputs": [],
   "source": [
    "import numpy as np\n",
    "import pandas as pd\n",
    "from numba import jit, vectorize, float64\n",
    "from time import perf_counter as counter"
   ]
  },
  {
   "cell_type": "markdown",
   "id": "70135331-91db-4ae6-b7ee-9ac0b1901e97",
   "metadata": {
    "slideshow": {
     "slide_type": "slide"
    },
    "tags": []
   },
   "source": [
    "# Removing bottlenecks with Numba, Cython, and TensorFlow"
   ]
  },
  {
   "cell_type": "markdown",
   "id": "5c9f0890-bb38-4760-a74b-091f2eb8ea67",
   "metadata": {
    "slideshow": {
     "slide_type": "subslide"
    },
    "tags": []
   },
   "source": [
    "## Topics"
   ]
  },
  {
   "cell_type": "markdown",
   "id": "af960d3e-7c57-4211-9baf-1a5d817e7dd8",
   "metadata": {
    "slideshow": {
     "slide_type": "fragment"
    },
    "tags": []
   },
   "source": [
    "1. Numba to speed up simple operations and create vectorising functions.\n",
    "2. When to and how to use Cython in its simplest form.\n",
    "3. How to include these functions in your packages.\n",
    "4. Tensorflow feature engineering.\n",
    "5. Quick win for TensorFlow speed in prediction."
   ]
  },
  {
   "cell_type": "markdown",
   "id": "021cbdcd-b78b-46eb-8646-e4ee1779e7a8",
   "metadata": {
    "slideshow": {
     "slide_type": "slide"
    },
    "tags": []
   },
   "source": [
    "## 1. Numba"
   ]
  },
  {
   "cell_type": "markdown",
   "id": "12b25089-e0d6-4252-a8ec-0a795b86ed81",
   "metadata": {
    "slideshow": {
     "slide_type": "subslide"
    },
    "tags": []
   },
   "source": [
    "### Introduction"
   ]
  },
  {
   "cell_type": "markdown",
   "id": "3e9c5391-e3d7-4b31-ab50-c2faef528ae5",
   "metadata": {
    "slideshow": {
     "slide_type": "fragment"
    },
    "tags": []
   },
   "source": [
    "- Library to translate python code into fast machine code.\n",
    "- Designed specifically for compatibility with numpy.\n",
    "- Provides just in time compilation."
   ]
  },
  {
   "cell_type": "markdown",
   "id": "3a6054ca-30b9-4737-a3df-080e2b4e4582",
   "metadata": {
    "slideshow": {
     "slide_type": "subslide"
    },
    "tags": []
   },
   "source": [
    "### Demo"
   ]
  },
  {
   "cell_type": "markdown",
   "id": "c6a21db2-b420-4fa9-b188-b5935ae8250c",
   "metadata": {
    "slideshow": {
     "slide_type": "subslide"
    },
    "tags": []
   },
   "source": [
    "### Pros v Cons"
   ]
  },
  {
   "cell_type": "markdown",
   "id": "2b7a4395-3ff0-45ca-b205-c8d257fb8af0",
   "metadata": {
    "slideshow": {
     "slide_type": "fragment"
    },
    "tags": []
   },
   "source": [
    "Pros\n",
    "- Easy to implement in many cases.\n",
    "- Significant speed boosts.\n",
    "- Suited to a lot of data processing needs in data science.\n",
    "\n",
    "Cons\n",
    "- Limited scope regarding python libaries.\n",
    "- When certain functions either do not work or are not accelerated it is difficult to work out why not?\n",
    "- In more complex use cases needing to make all of the functions compatible is a hassle."
   ]
  },
  {
   "cell_type": "markdown",
   "id": "8372b391-2719-4600-98eb-4ae7bf53895d",
   "metadata": {
    "slideshow": {
     "slide_type": "skip"
    },
    "tags": []
   },
   "source": [
    "### Speed comparisions"
   ]
  },
  {
   "cell_type": "markdown",
   "id": "e23150e8-7c19-4e49-9836-c23afd9b0bac",
   "metadata": {
    "slideshow": {
     "slide_type": "skip"
    },
    "tags": []
   },
   "source": [
    "With loops"
   ]
  },
  {
   "cell_type": "code",
   "execution_count": 4,
   "id": "e5a4cf2b-8efa-4743-bf04-62ac29375ae7",
   "metadata": {
    "slideshow": {
     "slide_type": "skip"
    },
    "tags": []
   },
   "outputs": [
    {
     "data": {
      "text/html": [
       "<div>\n",
       "<style scoped>\n",
       "    .dataframe tbody tr th:only-of-type {\n",
       "        vertical-align: middle;\n",
       "    }\n",
       "\n",
       "    .dataframe tbody tr th {\n",
       "        vertical-align: top;\n",
       "    }\n",
       "\n",
       "    .dataframe thead th {\n",
       "        text-align: right;\n",
       "    }\n",
       "</style>\n",
       "<table border=\"1\" class=\"dataframe\">\n",
       "  <thead>\n",
       "    <tr style=\"text-align: right;\">\n",
       "      <th></th>\n",
       "      <th>d</th>\n",
       "    </tr>\n",
       "  </thead>\n",
       "  <tbody>\n",
       "    <tr>\n",
       "      <th>0</th>\n",
       "      <td>0.638929</td>\n",
       "    </tr>\n",
       "    <tr>\n",
       "      <th>1</th>\n",
       "      <td>0.649349</td>\n",
       "    </tr>\n",
       "    <tr>\n",
       "      <th>2</th>\n",
       "      <td>0.496717</td>\n",
       "    </tr>\n",
       "    <tr>\n",
       "      <th>3</th>\n",
       "      <td>0.614220</td>\n",
       "    </tr>\n",
       "    <tr>\n",
       "      <th>4</th>\n",
       "      <td>0.260934</td>\n",
       "    </tr>\n",
       "  </tbody>\n",
       "</table>\n",
       "</div>"
      ],
      "text/plain": [
       "          d\n",
       "0  0.638929\n",
       "1  0.649349\n",
       "2  0.496717\n",
       "3  0.614220\n",
       "4  0.260934"
      ]
     },
     "execution_count": 4,
     "metadata": {},
     "output_type": "execute_result"
    }
   ],
   "source": [
    "data = pd.DataFrame(np.random.uniform(0, 1, 1_000_000).reshape(-1,1))\n",
    "data.columns = [\"d\"]\n",
    "data.head()"
   ]
  },
  {
   "cell_type": "code",
   "execution_count": 5,
   "id": "f455bf1f-b25c-4d81-890c-8e59d55196c7",
   "metadata": {
    "slideshow": {
     "slide_type": "skip"
    },
    "tags": []
   },
   "outputs": [],
   "source": [
    "test_values = [\"1\", \"10\", \"100\", \"1_000\", \"10_000\", \"100_000\", \"1_000_000\"]"
   ]
  },
  {
   "cell_type": "code",
   "execution_count": 6,
   "id": "267c9df5-11e3-4657-bd40-0b7c4113aa90",
   "metadata": {
    "slideshow": {
     "slide_type": "skip"
    },
    "tags": []
   },
   "outputs": [],
   "source": [
    "empty_results = [np.nan for i in range(7)]"
   ]
  },
  {
   "cell_type": "code",
   "execution_count": 7,
   "id": "c412aca3-4715-45cf-91eb-724032b4ff87",
   "metadata": {
    "slideshow": {
     "slide_type": "skip"
    },
    "tags": []
   },
   "outputs": [],
   "source": [
    "results = {\n",
    "    \"Pure Python\": empty_results.copy(),\n",
    "    \"Jit Operation\": empty_results.copy(),\n",
    "    \"Jit Apply\": empty_results.copy(),\n",
    "    \"Jit Loop\": empty_results.copy(),\n",
    "    \"Vectorize\": empty_results.copy(),\n",
    "    \"Jit Vectorize\": empty_results.copy()\n",
    "}"
   ]
  },
  {
   "cell_type": "markdown",
   "id": "36b81f68-9434-44c4-8aae-fb00b6a9604a",
   "metadata": {
    "slideshow": {
     "slide_type": "skip"
    },
    "tags": []
   },
   "source": [
    "Pure python test"
   ]
  },
  {
   "cell_type": "code",
   "execution_count": 8,
   "id": "27a0b14c-cb01-43ce-a58c-0b7c90f32f74",
   "metadata": {
    "slideshow": {
     "slide_type": "skip"
    },
    "tags": []
   },
   "outputs": [
    {
     "name": "stdout",
     "output_type": "stream",
     "text": [
      "Pure Python\n",
      "Testing 1\n",
      "Testing 10\n"
     ]
    }
   ],
   "source": [
    "def operation(x):\n",
    "    val = 0\n",
    "    for i in range(1_000):\n",
    "        for j in range(1_000):\n",
    "            val += (x * i) - (x * j) \n",
    "    return val\n",
    "\n",
    "def pure_python_test(n):\n",
    "    new = np.zeros(n).reshape(-1,1)\n",
    "    for i in range(n):\n",
    "        new[i,:] = operation(data.iloc[i,:][0])\n",
    "    return new\n",
    "\n",
    "test = \"Pure Python\"\n",
    "print(test)\n",
    "for i, val in enumerate(test_values):\n",
    "    if i >= 2:\n",
    "        break\n",
    "    print(f\"Testing {val}\")\n",
    "    baseline_begin = counter()\n",
    "    pure_python_test(int(val))\n",
    "    baseline_end = counter()\n",
    "    results[test][i] = baseline_end-baseline_begin"
   ]
  },
  {
   "cell_type": "markdown",
   "id": "37ca0ee6-a9e3-476a-af91-23423c857f7e",
   "metadata": {
    "slideshow": {
     "slide_type": "skip"
    },
    "tags": []
   },
   "source": [
    "Jit operation test"
   ]
  },
  {
   "cell_type": "code",
   "execution_count": 9,
   "id": "a3ec308d-70e3-4faf-910f-8b75295eaeeb",
   "metadata": {
    "slideshow": {
     "slide_type": "skip"
    },
    "tags": []
   },
   "outputs": [
    {
     "name": "stdout",
     "output_type": "stream",
     "text": [
      "Jit Operation\n",
      "Testing 1\n",
      "Testing 10\n",
      "Testing 100\n",
      "Testing 1_000\n"
     ]
    }
   ],
   "source": [
    "@jit\n",
    "def jit_operation(x):\n",
    "    val = 0\n",
    "    for i in range(1_000):\n",
    "        for j in range(1_000):\n",
    "            val += (x * i) - (x * j) \n",
    "    return val\n",
    "\n",
    "def jit_operation_test(n):\n",
    "    new = np.zeros(n).reshape(-1,1)\n",
    "    d = data.head(n)\n",
    "    for i in range(n):\n",
    "        x = d.iloc[i,:][0]\n",
    "        val = jit_operation(x) \n",
    "        new[i,:] = val\n",
    "    return new\n",
    "\n",
    "test = \"Jit Operation\"\n",
    "print(test)\n",
    "for i, val in enumerate(test_values):\n",
    "    if i >= 4:\n",
    "        break\n",
    "    print(f\"Testing {val}\")\n",
    "    baseline_begin = counter()\n",
    "    jit_operation_test(int(val))\n",
    "    baseline_end = counter()\n",
    "    results[test][i] = baseline_end-baseline_begin"
   ]
  },
  {
   "cell_type": "markdown",
   "id": "483d7e62-5ba2-47e3-aee2-4ce2e0a85103",
   "metadata": {
    "slideshow": {
     "slide_type": "skip"
    },
    "tags": []
   },
   "source": [
    "Jit loop test"
   ]
  },
  {
   "cell_type": "code",
   "execution_count": 10,
   "id": "a6b9b251-63e5-4cac-acd7-c661f447703c",
   "metadata": {
    "slideshow": {
     "slide_type": "skip"
    },
    "tags": []
   },
   "outputs": [
    {
     "name": "stdout",
     "output_type": "stream",
     "text": [
      "Jit Loop\n",
      "Testing 1\n",
      "Testing 10\n",
      "Testing 100\n",
      "Testing 1_000\n",
      "Testing 10_000\n",
      "Testing 100_000\n",
      "Testing 1_000_000\n"
     ]
    }
   ],
   "source": [
    "@jit\n",
    "def jit_operation(x):\n",
    "    val = 0\n",
    "    for i in range(1_000):\n",
    "        for j in range(1_000):\n",
    "            val += (x * i) - (x * j) \n",
    "    return val\n",
    "\n",
    "@jit\n",
    "def jit_loop_test(data):\n",
    "    new = np.zeros(len(data)).reshape(-1,1)\n",
    "    for i, val in enumerate(data):\n",
    "        new[i,:] = val\n",
    "    return new\n",
    "\n",
    "test = \"Jit Loop\"\n",
    "print(test)\n",
    "for i, val in enumerate(test_values):\n",
    "    print(f\"Testing {val}\")\n",
    "    baseline_begin = counter()\n",
    "    jit_loop_test(np.array(data.head(int(val))[\"d\"]))\n",
    "    baseline_end = counter()\n",
    "    results[test][i] = baseline_end-baseline_begin"
   ]
  },
  {
   "cell_type": "markdown",
   "id": "66838bdc-a519-4899-8a46-61ca73d10f99",
   "metadata": {
    "jp-MarkdownHeadingCollapsed": true,
    "slideshow": {
     "slide_type": "skip"
    },
    "tags": []
   },
   "source": [
    "Jit apply test"
   ]
  },
  {
   "cell_type": "code",
   "execution_count": 11,
   "id": "62c520b1-fad5-43bb-b6d0-b2c79c6b8549",
   "metadata": {
    "slideshow": {
     "slide_type": "skip"
    },
    "tags": []
   },
   "outputs": [
    {
     "name": "stdout",
     "output_type": "stream",
     "text": [
      "Jit Apply\n",
      "Testing 1\n",
      "Testing 10\n",
      "Testing 100\n",
      "Testing 1_000\n",
      "Testing 10_000\n"
     ]
    }
   ],
   "source": [
    "@jit\n",
    "def jit_operation(x):\n",
    "    val = 0\n",
    "    for i in range(1_000):\n",
    "        for j in range(1_000):\n",
    "            val += (x * i) - (x * j) \n",
    "    return val\n",
    "\n",
    "def jit_apply_test(n):\n",
    "    t_d = data.head(n)\n",
    "    return t_d[\"d\"].apply(jit_operation)\n",
    "\n",
    "test = \"Jit Apply\"\n",
    "print(test)\n",
    "for i, val in enumerate(test_values):\n",
    "    if i >= 5:\n",
    "        break\n",
    "    print(f\"Testing {val}\")\n",
    "    baseline_begin = counter()\n",
    "    jit_apply_test(int(val))\n",
    "    baseline_end = counter()\n",
    "    results[test][i] = baseline_end-baseline_begin"
   ]
  },
  {
   "cell_type": "markdown",
   "id": "35006bc5-6a8e-41df-9b64-3839e74ed232",
   "metadata": {
    "slideshow": {
     "slide_type": "skip"
    },
    "tags": []
   },
   "source": [
    "Vectorize test"
   ]
  },
  {
   "cell_type": "code",
   "execution_count": 12,
   "id": "b9638155-021d-47ea-a061-eb6333bc5afa",
   "metadata": {
    "slideshow": {
     "slide_type": "skip"
    },
    "tags": []
   },
   "outputs": [
    {
     "name": "stdout",
     "output_type": "stream",
     "text": [
      "Vectorize\n",
      "Testing 1\n",
      "Testing 10\n",
      "Testing 100\n",
      "Testing 1_000\n",
      "Testing 10_000\n"
     ]
    }
   ],
   "source": [
    "@vectorize([float64(float64)])\n",
    "def vectorize_operation(x):\n",
    "    val = 0\n",
    "    for i in range(1_000):\n",
    "        for j in range(1_000):\n",
    "            val += (x * i) - (x * j) \n",
    "    return val\n",
    "\n",
    "def vectorize_test(n):\n",
    "    t_d = data.head(n)\n",
    "    new = vectorize_operation(t_d[\"d\"])\n",
    "    return new\n",
    "\n",
    "test = \"Vectorize\"\n",
    "print(test)\n",
    "for i, val in enumerate(test_values):\n",
    "    if i >= 5:\n",
    "        break\n",
    "    print(f\"Testing {val}\")\n",
    "    baseline_begin = counter()\n",
    "    vectorize_test(int(val))\n",
    "    baseline_end = counter()\n",
    "    results[test][i] = baseline_end-baseline_begin"
   ]
  },
  {
   "cell_type": "markdown",
   "id": "45ee8732-2985-42a4-9884-a1c24243fe80",
   "metadata": {
    "slideshow": {
     "slide_type": "skip"
    },
    "tags": []
   },
   "source": [
    "Jit Operation with Vectorize"
   ]
  },
  {
   "cell_type": "code",
   "execution_count": 13,
   "id": "51aa495a-1a70-4c8f-a1d5-858f83dae4cc",
   "metadata": {
    "slideshow": {
     "slide_type": "skip"
    },
    "tags": []
   },
   "outputs": [
    {
     "name": "stdout",
     "output_type": "stream",
     "text": [
      "Jit Vectorize\n",
      "Testing 1\n",
      "Testing 10\n",
      "Testing 100\n",
      "Testing 1_000\n",
      "Testing 10_000\n"
     ]
    }
   ],
   "source": [
    "@jit\n",
    "def jit_operation(x):\n",
    "    val = 0\n",
    "    for i in range(1_000):\n",
    "        for j in range(1_000):\n",
    "            val += (x * i) - (x * j) \n",
    "    return val\n",
    "\n",
    "@vectorize([float64(float64)])\n",
    "def jit_vectorize_operation(x):\n",
    "    return jit_operation(x)\n",
    "\n",
    "def jit_vectorize_test(n):\n",
    "    t_d = data.head(n)\n",
    "    return jit_vectorize_operation(t_d[\"d\"])\n",
    "\n",
    "test = \"Jit Vectorize\"\n",
    "print(test)\n",
    "for i, val in enumerate(test_values):\n",
    "    if i >= 5:\n",
    "        break\n",
    "    print(f\"Testing {val}\")\n",
    "    baseline_begin = counter()\n",
    "    jit_vectorize_test(int(val))\n",
    "    baseline_end = counter()\n",
    "    results[test][i] = baseline_end-baseline_begin"
   ]
  },
  {
   "cell_type": "code",
   "execution_count": 14,
   "id": "33bd0e20-7824-4339-aba5-20ce7c746526",
   "metadata": {
    "slideshow": {
     "slide_type": "skip"
    },
    "tags": []
   },
   "outputs": [
    {
     "data": {
      "text/html": [
       "<style type=\"text/css\">\n",
       "</style>\n",
       "<table id=\"T_445ea\">\n",
       "  <caption>Speed of function in s (given number of operations)</caption>\n",
       "  <thead>\n",
       "    <tr>\n",
       "      <th class=\"blank level0\" >&nbsp;</th>\n",
       "      <th id=\"T_445ea_level0_col0\" class=\"col_heading level0 col0\" >1</th>\n",
       "      <th id=\"T_445ea_level0_col1\" class=\"col_heading level0 col1\" >10</th>\n",
       "      <th id=\"T_445ea_level0_col2\" class=\"col_heading level0 col2\" >100</th>\n",
       "      <th id=\"T_445ea_level0_col3\" class=\"col_heading level0 col3\" >1_000</th>\n",
       "      <th id=\"T_445ea_level0_col4\" class=\"col_heading level0 col4\" >10_000</th>\n",
       "      <th id=\"T_445ea_level0_col5\" class=\"col_heading level0 col5\" >100_000</th>\n",
       "      <th id=\"T_445ea_level0_col6\" class=\"col_heading level0 col6\" >1_000_000</th>\n",
       "    </tr>\n",
       "  </thead>\n",
       "  <tbody>\n",
       "    <tr>\n",
       "      <th id=\"T_445ea_level0_row0\" class=\"row_heading level0 row0\" >Pure Python</th>\n",
       "      <td id=\"T_445ea_row0_col0\" class=\"data row0 col0\" >0.490379</td>\n",
       "      <td id=\"T_445ea_row0_col1\" class=\"data row0 col1\" >4.222536</td>\n",
       "      <td id=\"T_445ea_row0_col2\" class=\"data row0 col2\" >nan</td>\n",
       "      <td id=\"T_445ea_row0_col3\" class=\"data row0 col3\" >nan</td>\n",
       "      <td id=\"T_445ea_row0_col4\" class=\"data row0 col4\" >nan</td>\n",
       "      <td id=\"T_445ea_row0_col5\" class=\"data row0 col5\" >nan</td>\n",
       "      <td id=\"T_445ea_row0_col6\" class=\"data row0 col6\" >nan</td>\n",
       "    </tr>\n",
       "    <tr>\n",
       "      <th id=\"T_445ea_level0_row1\" class=\"row_heading level0 row1\" >Jit Operation</th>\n",
       "      <td id=\"T_445ea_row1_col0\" class=\"data row1 col0\" >0.208173</td>\n",
       "      <td id=\"T_445ea_row1_col1\" class=\"data row1 col1\" >0.015439</td>\n",
       "      <td id=\"T_445ea_row1_col2\" class=\"data row1 col2\" >0.128556</td>\n",
       "      <td id=\"T_445ea_row1_col3\" class=\"data row1 col3\" >1.074879</td>\n",
       "      <td id=\"T_445ea_row1_col4\" class=\"data row1 col4\" >nan</td>\n",
       "      <td id=\"T_445ea_row1_col5\" class=\"data row1 col5\" >nan</td>\n",
       "      <td id=\"T_445ea_row1_col6\" class=\"data row1 col6\" >nan</td>\n",
       "    </tr>\n",
       "    <tr>\n",
       "      <th id=\"T_445ea_level0_row2\" class=\"row_heading level0 row2\" >Jit Apply</th>\n",
       "      <td id=\"T_445ea_row2_col0\" class=\"data row2 col0\" >0.085609</td>\n",
       "      <td id=\"T_445ea_row2_col1\" class=\"data row2 col1\" >0.012046</td>\n",
       "      <td id=\"T_445ea_row2_col2\" class=\"data row2 col2\" >0.110998</td>\n",
       "      <td id=\"T_445ea_row2_col3\" class=\"data row2 col3\" >1.156075</td>\n",
       "      <td id=\"T_445ea_row2_col4\" class=\"data row2 col4\" >10.003750</td>\n",
       "      <td id=\"T_445ea_row2_col5\" class=\"data row2 col5\" >nan</td>\n",
       "      <td id=\"T_445ea_row2_col6\" class=\"data row2 col6\" >nan</td>\n",
       "    </tr>\n",
       "    <tr>\n",
       "      <th id=\"T_445ea_level0_row3\" class=\"row_heading level0 row3\" >Jit Loop</th>\n",
       "      <td id=\"T_445ea_row3_col0\" class=\"data row3 col0\" >0.372415</td>\n",
       "      <td id=\"T_445ea_row3_col1\" class=\"data row3 col1\" >0.000184</td>\n",
       "      <td id=\"T_445ea_row3_col2\" class=\"data row3 col2\" >0.000087</td>\n",
       "      <td id=\"T_445ea_row3_col3\" class=\"data row3 col3\" >0.000083</td>\n",
       "      <td id=\"T_445ea_row3_col4\" class=\"data row3 col4\" >0.000138</td>\n",
       "      <td id=\"T_445ea_row3_col5\" class=\"data row3 col5\" >0.000656</td>\n",
       "      <td id=\"T_445ea_row3_col6\" class=\"data row3 col6\" >0.005486</td>\n",
       "    </tr>\n",
       "    <tr>\n",
       "      <th id=\"T_445ea_level0_row4\" class=\"row_heading level0 row4\" >Vectorize</th>\n",
       "      <td id=\"T_445ea_row4_col0\" class=\"data row4 col0\" >0.002910</td>\n",
       "      <td id=\"T_445ea_row4_col1\" class=\"data row4 col1\" >0.012810</td>\n",
       "      <td id=\"T_445ea_row4_col2\" class=\"data row4 col2\" >0.107374</td>\n",
       "      <td id=\"T_445ea_row4_col3\" class=\"data row4 col3\" >0.993053</td>\n",
       "      <td id=\"T_445ea_row4_col4\" class=\"data row4 col4\" >9.964653</td>\n",
       "      <td id=\"T_445ea_row4_col5\" class=\"data row4 col5\" >nan</td>\n",
       "      <td id=\"T_445ea_row4_col6\" class=\"data row4 col6\" >nan</td>\n",
       "    </tr>\n",
       "    <tr>\n",
       "      <th id=\"T_445ea_level0_row5\" class=\"row_heading level0 row5\" >Jit Vectorize</th>\n",
       "      <td id=\"T_445ea_row5_col0\" class=\"data row5 col0\" >0.001397</td>\n",
       "      <td id=\"T_445ea_row5_col1\" class=\"data row5 col1\" >0.011649</td>\n",
       "      <td id=\"T_445ea_row5_col2\" class=\"data row5 col2\" >0.100765</td>\n",
       "      <td id=\"T_445ea_row5_col3\" class=\"data row5 col3\" >0.984344</td>\n",
       "      <td id=\"T_445ea_row5_col4\" class=\"data row5 col4\" >10.869915</td>\n",
       "      <td id=\"T_445ea_row5_col5\" class=\"data row5 col5\" >nan</td>\n",
       "      <td id=\"T_445ea_row5_col6\" class=\"data row5 col6\" >nan</td>\n",
       "    </tr>\n",
       "  </tbody>\n",
       "</table>\n"
      ],
      "text/plain": [
       "<pandas.io.formats.style.Styler at 0x7f0c3ee14610>"
      ]
     },
     "execution_count": 14,
     "metadata": {},
     "output_type": "execute_result"
    }
   ],
   "source": [
    "results_df = pd.DataFrame.from_dict(results, orient=\"index\")\n",
    "results_df.columns = test_values\n",
    "results_df.style.set_caption(\"Speed of function in s (given number of operations)\")"
   ]
  },
  {
   "cell_type": "markdown",
   "id": "d42e1af0-1a87-467e-95a8-1ec6f8f3a8c8",
   "metadata": {
    "slideshow": {
     "slide_type": "slide"
    },
    "tags": []
   },
   "source": [
    "## 2. Cython"
   ]
  },
  {
   "cell_type": "markdown",
   "id": "df171326-8b9e-4a52-9893-76d8dca68e56",
   "metadata": {
    "slideshow": {
     "slide_type": "subslide"
    },
    "tags": []
   },
   "source": [
    "### Introduction"
   ]
  },
  {
   "cell_type": "markdown",
   "id": "65984cc1-da91-40c6-bcee-3d98c6c37878",
   "metadata": {
    "slideshow": {
     "slide_type": "fragment"
    },
    "tags": []
   },
   "source": [
    "- The Cython language is a superset of the Python language that additionally supports calling C functions and declaring C types on variables and class attributes. This allows the compiler to generate very efficient C code from Cython code. \n",
    "- Write Python code that calls back and forth from and to C or C++ code natively at any point.\n",
    "- Easily tune readable Python code into plain C performance by adding static type declarations, also in Python syntax."
   ]
  },
  {
   "cell_type": "markdown",
   "id": "8a17851e-c814-4fe9-9db6-1dcc3050368b",
   "metadata": {
    "slideshow": {
     "slide_type": "subslide"
    },
    "tags": []
   },
   "source": [
    "### Demo "
   ]
  },
  {
   "cell_type": "markdown",
   "id": "c6d25112-8aca-4b97-802a-fc6c78769cbb",
   "metadata": {
    "slideshow": {
     "slide_type": "subslide"
    },
    "tags": []
   },
   "source": [
    "### Pros v Cons"
   ]
  },
  {
   "cell_type": "markdown",
   "id": "79e5d6cf-8133-43e1-9037-a1ccc566b3f0",
   "metadata": {
    "slideshow": {
     "slide_type": "fragment"
    },
    "tags": []
   },
   "source": [
    "Pros\n",
    "- Very fast.\n",
    "- Extensively supported.\n",
    "- Utilise C libaries.\n",
    "\n",
    "Cons\n",
    "- Need to learn how to write.\n",
    "- Difficult to optimise.\n",
    "- Difficulty also rises quickly with complexity."
   ]
  },
  {
   "cell_type": "markdown",
   "id": "10a03e96-389b-47e4-89ca-c83a652b39f3",
   "metadata": {
    "slideshow": {
     "slide_type": "slide"
    },
    "tags": []
   },
   "source": [
    "## 3. Packaging"
   ]
  },
  {
   "cell_type": "markdown",
   "id": "334e51be-a27a-4e65-af83-46e10abf29d8",
   "metadata": {
    "slideshow": {
     "slide_type": "subslide"
    },
    "tags": []
   },
   "source": [
    "### Boilerplate"
   ]
  },
  {
   "cell_type": "markdown",
   "id": "a025d97d-2c50-4fa0-b8f8-277bf9b82037",
   "metadata": {
    "slideshow": {
     "slide_type": "slide"
    },
    "tags": []
   },
   "source": [
    "## 4. TensorFlow "
   ]
  },
  {
   "cell_type": "markdown",
   "id": "f15ab448-d130-42a4-abf9-f92c17c3eff4",
   "metadata": {
    "slideshow": {
     "slide_type": "subslide"
    },
    "tags": []
   },
   "source": [
    "### Demo"
   ]
  },
  {
   "cell_type": "markdown",
   "id": "60cec30e-fc95-40a2-be17-fb5caf498b4f",
   "metadata": {
    "slideshow": {
     "slide_type": "slide"
    },
    "tags": []
   },
   "source": [
    "# 5. Final questions"
   ]
  }
 ],
 "metadata": {
  "kernelspec": {
   "display_name": "Python 3 (ipykernel)",
   "language": "python",
   "name": "python3"
  },
  "language_info": {
   "codemirror_mode": {
    "name": "ipython",
    "version": 3
   },
   "file_extension": ".py",
   "mimetype": "text/x-python",
   "name": "python",
   "nbconvert_exporter": "python",
   "pygments_lexer": "ipython3",
   "version": "3.8.12"
  }
 },
 "nbformat": 4,
 "nbformat_minor": 5
}
