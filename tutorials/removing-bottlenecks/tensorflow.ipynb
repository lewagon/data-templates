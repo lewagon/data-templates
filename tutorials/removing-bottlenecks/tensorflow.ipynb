{
 "cells": [
  {
   "cell_type": "code",
   "execution_count": 1,
   "id": "f845c65b-5aa1-48e4-8de0-befd6454f148",
   "metadata": {},
   "outputs": [
    {
     "name": "stdout",
     "output_type": "stream",
     "text": [
      "Requirement already satisfied: tensorflow-addons==0.15 in /Users/olivergiles/.pyenv/versions/3.8.12/envs/lewagon/lib/python3.8/site-packages (0.15.0)\n",
      "Requirement already satisfied: typeguard>=2.7 in /Users/olivergiles/.pyenv/versions/3.8.12/envs/lewagon/lib/python3.8/site-packages (from tensorflow-addons==0.15) (2.13.3)\n",
      "\u001b[33mWARNING: You are using pip version 21.1.1; however, version 22.1.1 is available.\n",
      "You should consider upgrading via the '/Users/olivergiles/.pyenv/versions/3.8.12/envs/lewagon/bin/python3.8 -m pip install --upgrade pip' command.\u001b[0m\n",
      "Requirement already satisfied: pydot in /Users/olivergiles/.pyenv/versions/3.8.12/envs/lewagon/lib/python3.8/site-packages (1.4.2)\n",
      "Requirement already satisfied: pyparsing>=2.1.4 in /Users/olivergiles/.pyenv/versions/3.8.12/envs/lewagon/lib/python3.8/site-packages (from pydot) (3.0.6)\n",
      "\u001b[33mWARNING: You are using pip version 21.1.1; however, version 22.1.1 is available.\n",
      "You should consider upgrading via the '/Users/olivergiles/.pyenv/versions/3.8.12/envs/lewagon/bin/python3.8 -m pip install --upgrade pip' command.\u001b[0m\n"
     ]
    }
   ],
   "source": [
    "!pip install tensorflow-addons==0.15\n",
    "!pip install pydot"
   ]
  },
  {
   "cell_type": "code",
   "execution_count": 2,
   "id": "7f8bf99c-52f3-4803-9c4c-697d4629d5f1",
   "metadata": {},
   "outputs": [],
   "source": [
    "%load_ext autoreload\n",
    "import pandas as pd\n",
    "import tensorflow as tf\n",
    "import tensorflow_addons as tfa\n",
    "from tensorflow.keras import Input, Model\n",
    "from tensorflow.keras.callbacks import EarlyStopping\n",
    "from tensorflow.keras.utils import plot_model\n",
    "from tensorflow.keras.layers import Dense, Normalization, concatenate, BatchNormalization\n",
    "import timeit\n",
    "from math import pi\n",
    "import matplotlib.pyplot as plt \n",
    "import numpy as np\n",
    "from numba import vectorize, float64"
   ]
  },
  {
   "cell_type": "code",
   "execution_count": 3,
   "id": "60ddf7fa-6a9f-46cf-816f-964617b42d2a",
   "metadata": {
    "tags": []
   },
   "outputs": [],
   "source": [
    "@vectorize([float64(float64, float64, float64, float64)],cache=True)\n",
    "def f64_haversine(lon1,lat1,lon2,lat2):\n",
    "    lon1, lat1, lon2, lat2 = map(radians, [lon1, lat1, lon2, lat2])\n",
    "    dlon = lon2 - lon1\n",
    "    dlat = lat2 - lat1\n",
    "    a = sin(dlat / 2) ** 2 + cos(lat1) * cos(lat2) * sin(dlon / 2) ** 2\n",
    "    return 2 * 6371 * asin(sqrt(a))"
   ]
  },
  {
   "cell_type": "code",
   "execution_count": 4,
   "id": "cb14c527-322f-49c3-b380-5f781050654b",
   "metadata": {
    "tags": []
   },
   "outputs": [
    {
     "data": {
      "text/html": [
       "<div>\n",
       "<style scoped>\n",
       "    .dataframe tbody tr th:only-of-type {\n",
       "        vertical-align: middle;\n",
       "    }\n",
       "\n",
       "    .dataframe tbody tr th {\n",
       "        vertical-align: top;\n",
       "    }\n",
       "\n",
       "    .dataframe thead th {\n",
       "        text-align: right;\n",
       "    }\n",
       "</style>\n",
       "<table border=\"1\" class=\"dataframe\">\n",
       "  <thead>\n",
       "    <tr style=\"text-align: right;\">\n",
       "      <th></th>\n",
       "      <th>key</th>\n",
       "      <th>fare_amount</th>\n",
       "      <th>pickup_datetime</th>\n",
       "      <th>pickup_longitude</th>\n",
       "      <th>pickup_latitude</th>\n",
       "      <th>dropoff_longitude</th>\n",
       "      <th>dropoff_latitude</th>\n",
       "      <th>passenger_count</th>\n",
       "    </tr>\n",
       "  </thead>\n",
       "  <tbody>\n",
       "    <tr>\n",
       "      <th>0</th>\n",
       "      <td>2009-06-15 17:26:21.0000001</td>\n",
       "      <td>4.5</td>\n",
       "      <td>2009-06-15 17:26:21 UTC</td>\n",
       "      <td>-73.844311</td>\n",
       "      <td>40.721319</td>\n",
       "      <td>-73.841610</td>\n",
       "      <td>40.712278</td>\n",
       "      <td>1</td>\n",
       "    </tr>\n",
       "    <tr>\n",
       "      <th>1</th>\n",
       "      <td>2010-01-05 16:52:16.0000002</td>\n",
       "      <td>16.9</td>\n",
       "      <td>2010-01-05 16:52:16 UTC</td>\n",
       "      <td>-74.016048</td>\n",
       "      <td>40.711303</td>\n",
       "      <td>-73.979268</td>\n",
       "      <td>40.782004</td>\n",
       "      <td>1</td>\n",
       "    </tr>\n",
       "    <tr>\n",
       "      <th>2</th>\n",
       "      <td>2011-08-18 00:35:00.00000049</td>\n",
       "      <td>5.7</td>\n",
       "      <td>2011-08-18 00:35:00 UTC</td>\n",
       "      <td>-73.982738</td>\n",
       "      <td>40.761270</td>\n",
       "      <td>-73.991242</td>\n",
       "      <td>40.750562</td>\n",
       "      <td>2</td>\n",
       "    </tr>\n",
       "    <tr>\n",
       "      <th>3</th>\n",
       "      <td>2012-04-21 04:30:42.0000001</td>\n",
       "      <td>7.7</td>\n",
       "      <td>2012-04-21 04:30:42 UTC</td>\n",
       "      <td>-73.987130</td>\n",
       "      <td>40.733143</td>\n",
       "      <td>-73.991567</td>\n",
       "      <td>40.758092</td>\n",
       "      <td>1</td>\n",
       "    </tr>\n",
       "    <tr>\n",
       "      <th>4</th>\n",
       "      <td>2010-03-09 07:51:00.000000135</td>\n",
       "      <td>5.3</td>\n",
       "      <td>2010-03-09 07:51:00 UTC</td>\n",
       "      <td>-73.968095</td>\n",
       "      <td>40.768008</td>\n",
       "      <td>-73.956655</td>\n",
       "      <td>40.783762</td>\n",
       "      <td>1</td>\n",
       "    </tr>\n",
       "  </tbody>\n",
       "</table>\n",
       "</div>"
      ],
      "text/plain": [
       "                             key  fare_amount          pickup_datetime  \\\n",
       "0    2009-06-15 17:26:21.0000001          4.5  2009-06-15 17:26:21 UTC   \n",
       "1    2010-01-05 16:52:16.0000002         16.9  2010-01-05 16:52:16 UTC   \n",
       "2   2011-08-18 00:35:00.00000049          5.7  2011-08-18 00:35:00 UTC   \n",
       "3    2012-04-21 04:30:42.0000001          7.7  2012-04-21 04:30:42 UTC   \n",
       "4  2010-03-09 07:51:00.000000135          5.3  2010-03-09 07:51:00 UTC   \n",
       "\n",
       "   pickup_longitude  pickup_latitude  dropoff_longitude  dropoff_latitude  \\\n",
       "0        -73.844311        40.721319         -73.841610         40.712278   \n",
       "1        -74.016048        40.711303         -73.979268         40.782004   \n",
       "2        -73.982738        40.761270         -73.991242         40.750562   \n",
       "3        -73.987130        40.733143         -73.991567         40.758092   \n",
       "4        -73.968095        40.768008         -73.956655         40.783762   \n",
       "\n",
       "   passenger_count  \n",
       "0                1  \n",
       "1                1  \n",
       "2                2  \n",
       "3                1  \n",
       "4                1  "
      ]
     },
     "execution_count": 4,
     "metadata": {},
     "output_type": "execute_result"
    }
   ],
   "source": [
    "url = 's3://wagon-public-datasets/taxi-fare-train.csv'\n",
    "df = pd.read_csv(url, nrows=110_000)\n",
    "df.head()"
   ]
  },
  {
   "cell_type": "markdown",
   "id": "ac7ab85a-ecbe-4d8f-8c90-9032a5297f35",
   "metadata": {
    "tags": []
   },
   "source": [
    "# Tensorflow"
   ]
  },
  {
   "cell_type": "code",
   "execution_count": 5,
   "id": "43046919-3ddf-4245-a733-fcedf49f37d8",
   "metadata": {},
   "outputs": [],
   "source": [
    "@tf.function\n",
    "def tf_radians(x):\n",
    "    return (pi * x)/180 \n",
    "\n",
    "@tf.function\n",
    "def tf_haversine(x):\n",
    "    x = tf_radians(x)\n",
    "    dlon = x[:,2] - x[:,0]\n",
    "    dlat = x[:,3] - x[:,1]\n",
    "    a = tf.math.sin(dlat / 2) ** 2 + tf.math.cos(x[:,2]) * tf.math.cos(x[:,3]) * tf.math.sin(dlon / 2) ** 2\n",
    "    return 2 * 6371 * tf.math.asin(tf.math.sqrt(a))"
   ]
  },
  {
   "cell_type": "code",
   "execution_count": 6,
   "id": "d25452b8-5adb-4b41-9086-d27f4e73a9e0",
   "metadata": {},
   "outputs": [],
   "source": [
    "x = np.array([\n",
    "    [1.0,2.0,3.0,4.0],\n",
    "    [1.0,2.0,3.0,4.0],\n",
    "    [1.0,2.0,3.0,4.0],\n",
    "    [1.0,2.0,3.0,4.0]\n",
    "])"
   ]
  },
  {
   "cell_type": "code",
   "execution_count": 7,
   "id": "07159636-bd83-4daf-b019-d3f748481952",
   "metadata": {},
   "outputs": [
    {
     "name": "stderr",
     "output_type": "stream",
     "text": [
      "2022-05-27 14:06:56.569248: I tensorflow/core/platform/cpu_feature_guard.cc:151] This TensorFlow binary is optimized with oneAPI Deep Neural Network Library (oneDNN) to use the following CPU instructions in performance-critical operations:  AVX2 FMA\n",
      "To enable them in other operations, rebuild TensorFlow with the appropriate compiler flags.\n"
     ]
    },
    {
     "data": {
      "text/plain": [
       "<tf.Tensor: shape=(4,), dtype=float64, numpy=array([314.22347668, 314.22347668, 314.22347668, 314.22347668])>"
      ]
     },
     "execution_count": 7,
     "metadata": {},
     "output_type": "execute_result"
    }
   ],
   "source": [
    "tf_haversine(x)"
   ]
  },
  {
   "cell_type": "code",
   "execution_count": 8,
   "id": "5c788749-a6dd-45de-b607-8bedf7030408",
   "metadata": {},
   "outputs": [],
   "source": [
    "import tensorflow.keras.backend as K\n",
    "from tensorflow.keras.layers.experimental.preprocessing import PreprocessingLayer\n",
    "\n",
    "class Haversine(PreprocessingLayer):\n",
    "    def __init__(self, name=None, **kwargs) -> None:\n",
    "        super(Haversine, self).__init__(name=name, **kwargs)\n",
    "        self.input_spec = tf.keras.layers.InputSpec(ndim=2)\n",
    "    \n",
    "    def call(self, inputs, training=True):\n",
    "        if training is None:\n",
    "            training = K.learning_phase()\n",
    "            \n",
    "        outputs = tf_haversine(inputs)\n",
    "        return tf.reshape(outputs, (-1,1))\n",
    "    \n",
    "    def compute_output_shape(self, input_shape):\n",
    "        return 1"
   ]
  },
  {
   "cell_type": "code",
   "execution_count": 9,
   "id": "9f1ecfe3-d543-4a2d-ae2f-ef5f6b5c8d3b",
   "metadata": {},
   "outputs": [
    {
     "name": "stdout",
     "output_type": "stream",
     "text": [
      "tf.Tensor(\n",
      "[[314.2235]\n",
      " [314.2235]\n",
      " [314.2235]\n",
      " [314.2235]], shape=(4, 1), dtype=float32)\n"
     ]
    }
   ],
   "source": [
    "hl = Haversine()\n",
    "y = hl(x)\n",
    "print(y)"
   ]
  },
  {
   "cell_type": "code",
   "execution_count": 10,
   "id": "5b2101e8-2268-4a84-a971-55fcf2de0e70",
   "metadata": {},
   "outputs": [],
   "source": [
    "def init_model_tf():\n",
    "    inputs = Input(shape=(4,))\n",
    "    x = Haversine()(inputs)\n",
    "    x = Dense(8, activation=\"relu\", input_shape=(1,))(x)\n",
    "    outputs = Dense(1, activation=\"linear\")(x)\n",
    "    model = Model(inputs=inputs, outputs=outputs)\n",
    "    model.compile(loss=\"mse\", optimizer=\"adam\", metrics=[\"mse\"])\n",
    "    return model\n",
    "\n",
    "model = init_model_tf()"
   ]
  },
  {
   "cell_type": "code",
   "execution_count": 11,
   "id": "32b8dd58-f675-45c0-bcaa-80a1ddf8a632",
   "metadata": {},
   "outputs": [
    {
     "name": "stdout",
     "output_type": "stream",
     "text": [
      "Model: \"model\"\n",
      "_________________________________________________________________\n",
      " Layer (type)                Output Shape              Param #   \n",
      "=================================================================\n",
      " input_1 (InputLayer)        [(None, 4)]               0         \n",
      "                                                                 \n",
      " haversine_1 (Haversine)     (None, 1)                 0         \n",
      "                                                                 \n",
      " dense (Dense)               (None, 8)                 16        \n",
      "                                                                 \n",
      " dense_1 (Dense)             (None, 1)                 9         \n",
      "                                                                 \n",
      "=================================================================\n",
      "Total params: 25\n",
      "Trainable params: 25\n",
      "Non-trainable params: 0\n",
      "_________________________________________________________________\n"
     ]
    }
   ],
   "source": [
    "model.summary()"
   ]
  },
  {
   "cell_type": "code",
   "execution_count": 12,
   "id": "17911b0a-ad6f-449b-b66b-3fd9dc1f2642",
   "metadata": {},
   "outputs": [],
   "source": [
    "small_df = df.head(10_000)"
   ]
  },
  {
   "cell_type": "code",
   "execution_count": 13,
   "id": "9fe5c1d9-7471-49e3-9aed-beac8a2b5421",
   "metadata": {},
   "outputs": [
    {
     "name": "stdout",
     "output_type": "stream",
     "text": [
      "CPU times: user 3.18 s, sys: 366 ms, total: 3.54 s\n",
      "Wall time: 3.3 s\n"
     ]
    },
    {
     "data": {
      "text/plain": [
       "<keras.callbacks.History at 0x1675f2ca0>"
      ]
     },
     "execution_count": 13,
     "metadata": {},
     "output_type": "execute_result"
    }
   ],
   "source": [
    "%%time\n",
    "y = small_df.fare_amount\n",
    "X = small_df[[\"pickup_longitude\", \"pickup_latitude\", \"dropoff_longitude\", \"dropoff_latitude\"]]\n",
    "model.fit(X, y, epochs=5, batch_size=32, verbose=0)"
   ]
  },
  {
   "cell_type": "code",
   "execution_count": 14,
   "id": "ae770153-ed0f-45c1-8f6e-1cc45df9f213",
   "metadata": {},
   "outputs": [],
   "source": [
    "def init_model_numba():\n",
    "    inputs = Input(shape=(1,)) \n",
    "    x = Dense(8, activation=\"relu\", input_shape=(1,))(inputs)\n",
    "    outputs = Dense(1, activation=\"linear\")(x)\n",
    "    model = Model(inputs=inputs, outputs=outputs)\n",
    "    model.compile(loss=\"mse\", optimizer=\"adam\", metrics=[\"mse\"])\n",
    "    return model\n",
    "\n",
    "model = init_model_numba()"
   ]
  },
  {
   "cell_type": "code",
   "execution_count": 15,
   "id": "1b054416-6d70-4772-a8b8-62f7f9c29197",
   "metadata": {},
   "outputs": [
    {
     "name": "stdout",
     "output_type": "stream",
     "text": [
      "CPU times: user 3.35 s, sys: 385 ms, total: 3.74 s\n",
      "Wall time: 4 s\n"
     ]
    },
    {
     "data": {
      "text/plain": [
       "<keras.callbacks.History at 0x167df3250>"
      ]
     },
     "execution_count": 15,
     "metadata": {},
     "output_type": "execute_result"
    }
   ],
   "source": [
    "%%time\n",
    "y = small_df.fare_amount\n",
    "X = f64_haversine(small_df[\"pickup_longitude\"], small_df[\"pickup_latitude\"], \n",
    "            small_df[\"dropoff_longitude\"], small_df[\"dropoff_latitude\"])\n",
    "model.fit(X,y, epochs=5, batch_size=32, verbose=0)"
   ]
  },
  {
   "cell_type": "markdown",
   "id": "af0cf9d3-6dbd-4523-8ac4-62fe2f4cb1e7",
   "metadata": {},
   "source": [
    "# Simple example"
   ]
  },
  {
   "cell_type": "code",
   "execution_count": 16,
   "id": "7c35be3d-0eb2-4784-bf8c-e8e11f566057",
   "metadata": {},
   "outputs": [
    {
     "data": {
      "text/plain": [
       "tensorflow.python.eager.def_function.Function"
      ]
     },
     "execution_count": 16,
     "metadata": {},
     "output_type": "execute_result"
    }
   ],
   "source": [
    "# Let's make a simpler example\n",
    "@tf.function\n",
    "def f(x):\n",
    "    y = 1/(x**2)\n",
    "    return y\n",
    "type(f)"
   ]
  },
  {
   "cell_type": "code",
   "execution_count": 17,
   "id": "3097cfdd-b14f-463c-8d63-dce0b73eddc9",
   "metadata": {},
   "outputs": [
    {
     "name": "stdout",
     "output_type": "stream",
     "text": [
      "def tf__f(x):\n",
      "    with ag__.FunctionScope('f', 'fscope', ag__.ConversionOptions(recursive=True, user_requested=True, optional_features=(), internal_convert_user_code=True)) as fscope:\n",
      "        do_return = False\n",
      "        retval_ = ag__.UndefinedReturnValue()\n",
      "        y = (1 / (ag__.ld(x) ** 2))\n",
      "        try:\n",
      "            do_return = True\n",
      "            retval_ = ag__.ld(y)\n",
      "        except:\n",
      "            do_return = False\n",
      "            raise\n",
      "        return fscope.ret(retval_, do_return)\n",
      "\n"
     ]
    }
   ],
   "source": [
    "# This is your code re-coded in Tensorflow\n",
    "print(tf.autograph.to_code(f.python_function))"
   ]
  },
  {
   "cell_type": "code",
   "execution_count": 18,
   "id": "0764839f-f460-4e68-9e03-be17b5a93ff5",
   "metadata": {},
   "outputs": [
    {
     "data": {
      "text/plain": [
       "Reusing TensorBoard on port 6006 (pid 31995), started 15:23:03 ago. (Use '!kill 31995' to kill it.)"
      ]
     },
     "metadata": {},
     "output_type": "display_data"
    },
    {
     "data": {
      "text/html": [
       "\n",
       "      <iframe id=\"tensorboard-frame-4e24d98d6e0ce6ed\" width=\"100%\" height=\"800\" frameborder=\"0\">\n",
       "      </iframe>\n",
       "      <script>\n",
       "        (function() {\n",
       "          const frame = document.getElementById(\"tensorboard-frame-4e24d98d6e0ce6ed\");\n",
       "          const url = new URL(\"/\", window.location);\n",
       "          const port = 6006;\n",
       "          if (port) {\n",
       "            url.port = port;\n",
       "          }\n",
       "          frame.src = url;\n",
       "        })();\n",
       "      </script>\n",
       "    "
      ],
      "text/plain": [
       "<IPython.core.display.HTML object>"
      ]
     },
     "metadata": {},
     "output_type": "display_data"
    }
   ],
   "source": [
    "# Load the TensorBoard notebook extension.\n",
    "%load_ext tensorboard\n",
    "\n",
    "from datetime import datetime\n",
    "\n",
    "# Set up logging.\n",
    "stamp = datetime.now().strftime(\"%Y%m%d-%H%M%S\")\n",
    "logdir = 'logs/func/%s' % stamp\n",
    "writer = tf.summary.create_file_writer(logdir)\n",
    "\n",
    "# Bracket the function call with tf.summary.trace_on() and tf.summary.trace_export().\n",
    "tf.summary.trace_on()\n",
    "z = f(100)\n",
    "\n",
    "with writer.as_default():\n",
    "    tf.summary.trace_export(\n",
    "      name=\"my_func_trace\",\n",
    "      step=0,\n",
    "      profiler_outdir=logdir)\n",
    "\n",
    "\n",
    "# Display graph interactively\n",
    "%tensorboard --logdir logs/func"
   ]
  },
  {
   "cell_type": "markdown",
   "id": "ed464144-ec60-4332-a9e1-854b535cd085",
   "metadata": {
    "tags": []
   },
   "source": [
    "# Full example"
   ]
  },
  {
   "cell_type": "code",
   "execution_count": 19,
   "id": "4c6466e4-e717-4c95-9f99-0ff48f50684e",
   "metadata": {},
   "outputs": [],
   "source": [
    "@tf.function(experimental_follow_type_hints=True)\n",
    "def fn_seconds_since_1970(date_time: tf.string, date_format: str = \"%Y-%m-%d %H:%M:%S %Z\"):\n",
    "    seconds_since_1970 = tfa.text.parse_time(date_time, date_format, output_unit='SECOND')\n",
    "    seconds_since_1970 = tf.cast(seconds_since_1970, dtype=tf.int64)\n",
    "    return seconds_since_1970\n",
    "\n",
    "@tf.function\n",
    "def get_day_hour(x):\n",
    "    seconds_in_hour, hours_in_day = tf.constant(3600, dtype=tf.int64), tf.constant(24, dtype=tf.int64)\n",
    "    hours_since_1970 = x / seconds_in_hour\n",
    "    hours_since_1970 = tf.cast(hours_since_1970, tf.int64)\n",
    "    hour_of_day = hours_since_1970 % hours_in_day\n",
    "    days_since_1970 = x / (seconds_in_hour * hours_in_day)                                                                                                                        \n",
    "    days_since_1970 = tf.cast(days_since_1970, tf.int64)                                                                                                                               \n",
    "    day_of_week = (days_since_1970 + 4) % 7 \n",
    "    return day_of_week, hour_of_day\n",
    "\n",
    "@tf.function\n",
    "def sin_transformation(x, period):\n",
    "    return tf.sin(x / period * 2 * pi)\n",
    "    \n",
    "@tf.function\n",
    "def cos_transformation(x, period):\n",
    "    return tf.cos(x / period * 2 * pi)\n",
    "\n",
    "@tf.function\n",
    "def get_time_features(x):\n",
    "    seconds_since_1970 = fn_seconds_since_1970(x)\n",
    "    day_of_week, hour_of_day = get_day_hour(seconds_since_1970)\n",
    "    return tf.stack([sin_transformation(day_of_week, 7), cos_transformation(day_of_week, 7), sin_transformation(hour_of_day, 24), cos_transformation(hour_of_day, 24)],axis=1)"
   ]
  },
  {
   "cell_type": "code",
   "execution_count": 20,
   "id": "3b592a7e-74b3-4117-97fe-db587ced5c9f",
   "metadata": {
    "tags": []
   },
   "outputs": [],
   "source": [
    "class TimeFeatures(PreprocessingLayer):\n",
    "    def __init__(self, name=None, **kwargs) -> None:\n",
    "        super(TimeFeatures, self).__init__(name=name, **kwargs)\n",
    "        self.input_spec = tf.keras.layers.InputSpec(ndim=2)\n",
    "    \n",
    "    def call(self, inputs, training=True):\n",
    "        if training is None:\n",
    "            training = K.learning_phase()\n",
    "            \n",
    "        outputs = get_time_features(inputs)\n",
    "        return tf.reshape(outputs, (-1,4))\n",
    "    \n",
    "    def compute_output_shape(self):\n",
    "        return 4"
   ]
  },
  {
   "cell_type": "code",
   "execution_count": 21,
   "id": "dfccd511-7826-4523-93ec-2f0b6c2765b6",
   "metadata": {},
   "outputs": [],
   "source": [
    "def init_model():\n",
    "    time_input = Input(shape=(1,),dtype=\"string\",name=\"time\")\n",
    "    x = TimeFeatures()(time_input)\n",
    "    x = Dense(40)(x)\n",
    "    x = Dense(20)(x)\n",
    "    time_output = Dense(10)(x)\n",
    "\n",
    "    distance_input = Input(shape=(4,), name=\"distance\")\n",
    "    y = Haversine()(distance_input)\n",
    "    y = Dense(20)(y)\n",
    "    distance_output = Dense(10)(y)\n",
    "\n",
    "    numerical_input = Input(shape=(1,), name=\"numerical\")\n",
    "    z = Normalization()(numerical_input)\n",
    "    z = Dense(10)(z)\n",
    "    numerical_output = Dense(10)(z)\n",
    "\n",
    "    combination = concatenate([time_output, distance_output, numerical_output])\n",
    "    t = Dense(10)(combination)\n",
    "    output = Dense(1, activation=\"linear\")(t)\n",
    "\n",
    "    model = Model(\n",
    "    inputs=[time_input, distance_input, numerical_input],\n",
    "    outputs=output\n",
    "    )\n",
    "\n",
    "    model.compile(\n",
    "    optimizer=\"adam\",\n",
    "    loss=\"mse\",\n",
    "    metrics=[\"mse\"]\n",
    "    )\n",
    "\n",
    "    return model"
   ]
  },
  {
   "cell_type": "code",
   "execution_count": 22,
   "id": "49477663-f564-4a6b-9ed2-a3aebe73cda2",
   "metadata": {},
   "outputs": [
    {
     "data": {
      "image/png": "[encoded data removed]",
      "text/plain": [
       "<IPython.core.display.Image object>"
      ]
     },
     "execution_count": 22,
     "metadata": {},
     "output_type": "execute_result"
    }
   ],
   "source": [
    "model = init_model()\n",
    "plot_model(model)"
   ]
  },
  {
   "cell_type": "code",
   "execution_count": 23,
   "id": "a350c6fb-2d19-4d34-ab61-55c164b83fee",
   "metadata": {},
   "outputs": [],
   "source": [
    "es = EarlyStopping(monitor=\"val_mse\", patience=5, restore_best_weights=True)"
   ]
  },
  {
   "cell_type": "code",
   "execution_count": 24,
   "id": "0920d76d-75ae-4c37-958e-04bd239f6d7e",
   "metadata": {},
   "outputs": [],
   "source": [
    "test_df = df.tail(100_000)\n",
    "df = df.head(10_000)"
   ]
  },
  {
   "cell_type": "code",
   "execution_count": 25,
   "id": "bc8261c7-71e0-4893-81d2-8ebedad96a3a",
   "metadata": {
    "tags": []
   },
   "outputs": [],
   "source": [
    "history = model.fit(\n",
    "x={\n",
    "    \"time\": df[\"pickup_datetime\"], \n",
    "    \"distance\": df[[\"pickup_longitude\", \"pickup_latitude\", \"dropoff_longitude\", \"dropoff_latitude\"]], \n",
    "    \"numerical\": df[\"passenger_count\"]\n",
    "},\n",
    "y=df[\"fare_amount\"],\n",
    "batch_size=32,\n",
    "epochs=5,\n",
    "callbacks=[es],\n",
    "validation_split=0.3,\n",
    "verbose=0\n",
    ")"
   ]
  },
  {
   "cell_type": "code",
   "execution_count": 26,
   "id": "108a80bf-5aa6-497b-b21f-48a03c612926",
   "metadata": {},
   "outputs": [
    {
     "name": "stdout",
     "output_type": "stream",
     "text": [
      "CPU times: user 9.59 s, sys: 807 ms, total: 10.4 s\n",
      "Wall time: 7.39 s\n"
     ]
    },
    {
     "data": {
      "text/plain": [
       "array([[14.102963 ],\n",
       "       [10.642104 ],\n",
       "       [ 9.917615 ],\n",
       "       ...,\n",
       "       [10.127873 ],\n",
       "       [13.2417965],\n",
       "       [10.765684 ]], dtype=float32)"
      ]
     },
     "execution_count": 26,
     "metadata": {},
     "output_type": "execute_result"
    }
   ],
   "source": [
    "%%time\n",
    "model.predict({\n",
    "\"time\": test_df[\"pickup_datetime\"], \n",
    "\"distance\": test_df[[\"pickup_longitude\", \"pickup_latitude\", \"dropoff_longitude\", \"dropoff_latitude\"]], \n",
    "\"numerical\": test_df[\"passenger_count\"]\n",
    "})"
   ]
  },
  {
   "cell_type": "code",
   "execution_count": 29,
   "id": "60467aa4-a0cb-4c2f-aa90-dedd36043156",
   "metadata": {
    "tags": []
   },
   "outputs": [
    {
     "name": "stdout",
     "output_type": "stream",
     "text": [
      "CPU times: user 203 ms, sys: 69.1 ms, total: 272 ms\n",
      "Wall time: 234 ms\n"
     ]
    },
    {
     "data": {
      "text/plain": [
       "<tf.Tensor: shape=(100000, 1), dtype=float32, numpy=\n",
       "array([[14.102963 ],\n",
       "       [10.642104 ],\n",
       "       [ 9.917615 ],\n",
       "       ...,\n",
       "       [10.127873 ],\n",
       "       [13.2417965],\n",
       "       [10.765685 ]], dtype=float32)>"
      ]
     },
     "execution_count": 29,
     "metadata": {},
     "output_type": "execute_result"
    }
   ],
   "source": [
    "%%time\n",
    "model.__call__({\n",
    "\"time\": test_df[\"pickup_datetime\"].values, \n",
    "\"distance\": test_df[[\"pickup_longitude\", \"pickup_latitude\", \"dropoff_longitude\", \"dropoff_latitude\"]].values, \n",
    "\"numerical\": test_df[\"passenger_count\"].values\n",
    "})"
   ]
  },
  {
   "cell_type": "code",
   "execution_count": 28,
   "id": "e60bb62e-3e70-4cb1-9cbd-09bbe4899c51",
   "metadata": {},
   "outputs": [
    {
     "name": "stdout",
     "output_type": "stream",
     "text": [
      "CPU times: user 203 ms, sys: 65.3 ms, total: 268 ms\n",
      "Wall time: 217 ms\n"
     ]
    },
    {
     "data": {
      "text/plain": [
       "<tf.Tensor: shape=(100000, 1), dtype=float32, numpy=\n",
       "array([[14.102963 ],\n",
       "       [10.642104 ],\n",
       "       [ 9.917615 ],\n",
       "       ...,\n",
       "       [10.127873 ],\n",
       "       [13.2417965],\n",
       "       [10.765685 ]], dtype=float32)>"
      ]
     },
     "execution_count": 28,
     "metadata": {},
     "output_type": "execute_result"
    }
   ],
   "source": [
    "%%time\n",
    "model({\n",
    "\"time\": test_df[\"pickup_datetime\"].values, \n",
    "\"distance\": test_df[[\"pickup_longitude\", \"pickup_latitude\", \"dropoff_longitude\", \"dropoff_latitude\"]].values, \n",
    "\"numerical\": test_df[\"passenger_count\"].values\n",
    "})"
   ]
  },
  {
   "cell_type": "code",
   "execution_count": null,
   "id": "bb6c532b-a0e6-4113-9349-46497bbe0acf",
   "metadata": {},
   "outputs": [],
   "source": []
  }
 ],
 "metadata": {
  "kernelspec": {
   "display_name": "Python 3 (ipykernel)",
   "language": "python",
   "name": "python3"
  },
  "language_info": {
   "codemirror_mode": {
    "name": "ipython",
    "version": 3
   },
   "file_extension": ".py",
   "mimetype": "text/x-python",
   "name": "python",
   "nbconvert_exporter": "python",
   "pygments_lexer": "ipython3",
   "version": "3.8.12"
  }
 },
 "nbformat": 4,
 "nbformat_minor": 5
}
