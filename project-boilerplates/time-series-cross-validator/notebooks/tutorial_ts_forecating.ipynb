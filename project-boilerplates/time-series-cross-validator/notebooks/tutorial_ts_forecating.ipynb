{
 "cells": [
  {
   "cell_type": "markdown",
   "metadata": {},
   "source": [
    "# Recap\n",
    "\n",
    "We will go through the main issues you will face when working with Recurrent Neural Networks that are designed to deal with time-series"
   ]
  },
  {
   "cell_type": "markdown",
   "metadata": {},
   "source": [
    "## Part 1: How to make a proper Time Series Split ?"
   ]
  },
  {
   "cell_type": "markdown",
   "metadata": {},
   "source": [
    "Let's imagine your `data` as 2D array structured as follows\n",
    "\n",
    "`data.shape = (n_timesteps, n_features)`\n",
    "\n",
    "`features` can be separated into 3 categories\n",
    "- targets\n",
    "- past-covariates\n",
    "- future-covariates"
   ]
  },
  {
   "cell_type": "markdown",
   "metadata": {},
   "source": [
    "<img src='https://github.com/lewagon/data-images/blob/master/DL/time-series-covariates.png?raw=true'>"
   ]
  },
  {
   "cell_type": "markdown",
   "metadata": {},
   "source": [
    "### 1.1) First, create many **FOLDS** for your cross-validation"
   ]
  },
  {
   "cell_type": "markdown",
   "metadata": {},
   "source": [
    "`fold_1.shape = (n_timesteps_per_fold, n_features)`  as 2D arrays  \n",
    "`fold_2.shape = (n_timesteps_per_fold, n_features)`  as 2D arrays"
   ]
  },
  {
   "cell_type": "markdown",
   "metadata": {},
   "source": [
    "Always split your training set *chronologically before* your test set\n",
    "\n",
    "👇 e.g. 4-time cross validation split"
   ]
  },
  {
   "cell_type": "markdown",
   "metadata": {},
   "source": [
    "<img src='https://github.com/lewagon/data-images/blob/master/DL/rnn-2.png?raw=true'>"
   ]
  },
  {
   "cell_type": "markdown",
   "metadata": {},
   "source": [
    "Create as many folds as needed to clearly test all type of past conditions \n",
    "(e.g crash markets periods 📉, bull-run markets 📈, flat markets 😴 etc...)\n",
    "\n",
    "It's very common to have **hundreds of folds** in Time Series forecasting!"
   ]
  },
  {
   "cell_type": "markdown",
   "metadata": {},
   "source": [
    "### 1.2) in each FOLD, and for each train or test SET, split your time series into different SEQUENCES of (observations, target)"
   ]
  },
  {
   "cell_type": "markdown",
   "metadata": {},
   "source": [
    "<img src='https://github.com/lewagon/data-images/blob/master/DL/rnn-1.png?raw=true'>"
   ]
  },
  {
   "cell_type": "markdown",
   "metadata": {},
   "source": [
    "Goal: create (`X_train`, `y_train`, `X_test`, `y_test`) containing all you need to train and test your model for this fold\n",
    "  \n",
    "- `X_train.shape = (n_samples, input_chunk_length, n_covariate_features)`\n",
    "- `y_train.shape = (n_samples, output_chunk_length, n_targets)`\n",
    "\n",
    "Notice that we now have 3D-arrays"
   ]
  },
  {
   "cell_type": "markdown",
   "metadata": {},
   "source": [
    "\n",
    "💡 You can randomly sample or create them all sliding from left to right, with selected stride"
   ]
  },
  {
   "cell_type": "markdown",
   "metadata": {},
   "source": [
    "<img src='https://github.com/lewagon/data-images/blob/master/DL/sequence-length.png?raw=true'>"
   ]
  },
  {
   "cell_type": "markdown",
   "metadata": {},
   "source": [
    "### 3) 🚨 Beware of the **GAP** of length (horizon - 1) between each train & test sets in each fold to avoid data-leakage"
   ]
  },
  {
   "cell_type": "markdown",
   "metadata": {},
   "source": [
    "<center><img src='https://github.com/lewagon/data-images/blob/master/DL/rnn-2.png?raw=true' width = 400 ></center>"
   ]
  },
  {
   "cell_type": "markdown",
   "metadata": {},
   "source": [
    "👇 Below is a zoom inside **ONE SINGLE FOLD**\n",
    "\n",
    "A gap of size `horizon - 1` is mandatory to reflect real situations:\n",
    "- Here the forecast horizon is `4` days\n",
    "- Let's say we want our train set to end by predicting day `10` based on days before `4, 5, 6`\n",
    "- In a real situation we would need to **wait** for day `10` to discover the true value of `y` on which to finalize training\n",
    "- Therefore, the test set can only start on day `10`, which is meant to predict `y_test = 10 + 4`"
   ]
  },
  {
   "cell_type": "markdown",
   "metadata": {},
   "source": [
    "<span style='color:#2F8C41;font-size:20px'>horizon $h = 4$</span>\n",
    "\n",
    "$$ \\Large X^{t+\\color{green}4} = f(X^t, X^{t-1}, X^{t-2}) $$\n",
    "\n",
    "<img src='https://github.com/lewagon/data-images/blob/master/DL/rnn-3.png?raw=true'>"
   ]
  },
  {
   "cell_type": "markdown",
   "metadata": {},
   "source": [
    "✅ Use [sklearn](https://scikit-learn.org/stable/modules/generated/sklearn.model_selection.TimeSeriesSplit.html) `TimeSeriesSplit(n_splits = ..., gap=...)`"
   ]
  },
  {
   "cell_type": "markdown",
   "metadata": {},
   "source": [
    "---"
   ]
  },
  {
   "cell_type": "markdown",
   "metadata": {},
   "source": [
    "# Part 2: Air Pollution Solution"
   ]
  },
  {
   "cell_type": "markdown",
   "metadata": {},
   "source": [
    "<img src='https://github.com/lewagon/data-images/blob/master/DL/rnn-4.png?raw=true'>"
   ]
  },
  {
   "cell_type": "markdown",
   "metadata": {},
   "source": [
    "## 2.1 Data\n",
    "\n",
    "❓ **Question** ❓ We will load the data from the third and fourth exercise. Load the data, and keep only the following columns :  `['pm2.5', 'TEMP', 'DEWP', 'PRES', 'Ir', 'Is', 'Iws']`"
   ]
  },
  {
   "cell_type": "code",
   "execution_count": 1,
   "metadata": {},
   "outputs": [],
   "source": [
    "import pandas as pd\n",
    "\n",
    "df = pd.read_csv('https://wagon-public-datasets.s3.amazonaws.com/deep_learning_datasets/air%20pollution.txt', index_col=[0])\n",
    "df = df[['pm2.5', 'TEMP', 'DEWP', 'PRES', 'Ir', 'Is', 'Iws']]"
   ]
  },
  {
   "cell_type": "code",
   "execution_count": 2,
   "metadata": {},
   "outputs": [
    {
     "data": {
      "text/html": [
       "<div>\n",
       "<style scoped>\n",
       "    .dataframe tbody tr th:only-of-type {\n",
       "        vertical-align: middle;\n",
       "    }\n",
       "\n",
       "    .dataframe tbody tr th {\n",
       "        vertical-align: top;\n",
       "    }\n",
       "\n",
       "    .dataframe thead th {\n",
       "        text-align: right;\n",
       "    }\n",
       "</style>\n",
       "<table border=\"1\" class=\"dataframe\">\n",
       "  <thead>\n",
       "    <tr style=\"text-align: right;\">\n",
       "      <th></th>\n",
       "      <th>pm2.5</th>\n",
       "      <th>TEMP</th>\n",
       "      <th>DEWP</th>\n",
       "      <th>PRES</th>\n",
       "      <th>Ir</th>\n",
       "      <th>Is</th>\n",
       "      <th>Iws</th>\n",
       "    </tr>\n",
       "    <tr>\n",
       "      <th>No</th>\n",
       "      <th></th>\n",
       "      <th></th>\n",
       "      <th></th>\n",
       "      <th></th>\n",
       "      <th></th>\n",
       "      <th></th>\n",
       "      <th></th>\n",
       "    </tr>\n",
       "  </thead>\n",
       "  <tbody>\n",
       "    <tr>\n",
       "      <th>1</th>\n",
       "      <td>NaN</td>\n",
       "      <td>-11.0</td>\n",
       "      <td>-21</td>\n",
       "      <td>1021.0</td>\n",
       "      <td>0</td>\n",
       "      <td>0</td>\n",
       "      <td>1.79</td>\n",
       "    </tr>\n",
       "    <tr>\n",
       "      <th>2</th>\n",
       "      <td>NaN</td>\n",
       "      <td>-12.0</td>\n",
       "      <td>-21</td>\n",
       "      <td>1020.0</td>\n",
       "      <td>0</td>\n",
       "      <td>0</td>\n",
       "      <td>4.92</td>\n",
       "    </tr>\n",
       "    <tr>\n",
       "      <th>3</th>\n",
       "      <td>NaN</td>\n",
       "      <td>-11.0</td>\n",
       "      <td>-21</td>\n",
       "      <td>1019.0</td>\n",
       "      <td>0</td>\n",
       "      <td>0</td>\n",
       "      <td>6.71</td>\n",
       "    </tr>\n",
       "    <tr>\n",
       "      <th>4</th>\n",
       "      <td>NaN</td>\n",
       "      <td>-14.0</td>\n",
       "      <td>-21</td>\n",
       "      <td>1019.0</td>\n",
       "      <td>0</td>\n",
       "      <td>0</td>\n",
       "      <td>9.84</td>\n",
       "    </tr>\n",
       "    <tr>\n",
       "      <th>5</th>\n",
       "      <td>NaN</td>\n",
       "      <td>-12.0</td>\n",
       "      <td>-20</td>\n",
       "      <td>1018.0</td>\n",
       "      <td>0</td>\n",
       "      <td>0</td>\n",
       "      <td>12.97</td>\n",
       "    </tr>\n",
       "    <tr>\n",
       "      <th>...</th>\n",
       "      <td>...</td>\n",
       "      <td>...</td>\n",
       "      <td>...</td>\n",
       "      <td>...</td>\n",
       "      <td>...</td>\n",
       "      <td>...</td>\n",
       "      <td>...</td>\n",
       "    </tr>\n",
       "    <tr>\n",
       "      <th>43820</th>\n",
       "      <td>8.0</td>\n",
       "      <td>-2.0</td>\n",
       "      <td>-23</td>\n",
       "      <td>1034.0</td>\n",
       "      <td>0</td>\n",
       "      <td>0</td>\n",
       "      <td>231.97</td>\n",
       "    </tr>\n",
       "    <tr>\n",
       "      <th>43821</th>\n",
       "      <td>10.0</td>\n",
       "      <td>-3.0</td>\n",
       "      <td>-22</td>\n",
       "      <td>1034.0</td>\n",
       "      <td>0</td>\n",
       "      <td>0</td>\n",
       "      <td>237.78</td>\n",
       "    </tr>\n",
       "    <tr>\n",
       "      <th>43822</th>\n",
       "      <td>10.0</td>\n",
       "      <td>-3.0</td>\n",
       "      <td>-22</td>\n",
       "      <td>1034.0</td>\n",
       "      <td>0</td>\n",
       "      <td>0</td>\n",
       "      <td>242.70</td>\n",
       "    </tr>\n",
       "    <tr>\n",
       "      <th>43823</th>\n",
       "      <td>8.0</td>\n",
       "      <td>-4.0</td>\n",
       "      <td>-22</td>\n",
       "      <td>1034.0</td>\n",
       "      <td>0</td>\n",
       "      <td>0</td>\n",
       "      <td>246.72</td>\n",
       "    </tr>\n",
       "    <tr>\n",
       "      <th>43824</th>\n",
       "      <td>12.0</td>\n",
       "      <td>-3.0</td>\n",
       "      <td>-21</td>\n",
       "      <td>1034.0</td>\n",
       "      <td>0</td>\n",
       "      <td>0</td>\n",
       "      <td>249.85</td>\n",
       "    </tr>\n",
       "  </tbody>\n",
       "</table>\n",
       "<p>43824 rows × 7 columns</p>\n",
       "</div>"
      ],
      "text/plain": [
       "       pm2.5  TEMP  DEWP    PRES  Ir  Is     Iws\n",
       "No                                              \n",
       "1        NaN -11.0   -21  1021.0   0   0    1.79\n",
       "2        NaN -12.0   -21  1020.0   0   0    4.92\n",
       "3        NaN -11.0   -21  1019.0   0   0    6.71\n",
       "4        NaN -14.0   -21  1019.0   0   0    9.84\n",
       "5        NaN -12.0   -20  1018.0   0   0   12.97\n",
       "...      ...   ...   ...     ...  ..  ..     ...\n",
       "43820    8.0  -2.0   -23  1034.0   0   0  231.97\n",
       "43821   10.0  -3.0   -22  1034.0   0   0  237.78\n",
       "43822   10.0  -3.0   -22  1034.0   0   0  242.70\n",
       "43823    8.0  -4.0   -22  1034.0   0   0  246.72\n",
       "43824   12.0  -3.0   -21  1034.0   0   0  249.85\n",
       "\n",
       "[43824 rows x 7 columns]"
      ]
     },
     "execution_count": 2,
     "metadata": {},
     "output_type": "execute_result"
    }
   ],
   "source": [
    "df"
   ]
  },
  {
   "cell_type": "markdown",
   "metadata": {},
   "source": [
    "❓ **Question** ❓ For the sake of simplicity, fill in the missing values with mean over the entire dataset."
   ]
  },
  {
   "cell_type": "code",
   "execution_count": 3,
   "metadata": {},
   "outputs": [],
   "source": [
    "df = df.fillna(df.mean())"
   ]
  },
  {
   "cell_type": "code",
   "execution_count": 26,
   "metadata": {},
   "outputs": [
    {
     "data": {
      "text/html": [
       "<div>\n",
       "<style scoped>\n",
       "    .dataframe tbody tr th:only-of-type {\n",
       "        vertical-align: middle;\n",
       "    }\n",
       "\n",
       "    .dataframe tbody tr th {\n",
       "        vertical-align: top;\n",
       "    }\n",
       "\n",
       "    .dataframe thead th {\n",
       "        text-align: right;\n",
       "    }\n",
       "</style>\n",
       "<table border=\"1\" class=\"dataframe\">\n",
       "  <thead>\n",
       "    <tr style=\"text-align: right;\">\n",
       "      <th></th>\n",
       "      <th>pm2.5</th>\n",
       "      <th>TEMP</th>\n",
       "      <th>DEWP</th>\n",
       "      <th>PRES</th>\n",
       "      <th>Ir</th>\n",
       "      <th>Is</th>\n",
       "      <th>Iws</th>\n",
       "    </tr>\n",
       "  </thead>\n",
       "  <tbody>\n",
       "    <tr>\n",
       "      <th>count</th>\n",
       "      <td>43824.000000</td>\n",
       "      <td>43824.000000</td>\n",
       "      <td>43824.000000</td>\n",
       "      <td>43824.000000</td>\n",
       "      <td>43824.000000</td>\n",
       "      <td>43824.000000</td>\n",
       "      <td>43824.000000</td>\n",
       "    </tr>\n",
       "    <tr>\n",
       "      <th>mean</th>\n",
       "      <td>98.613215</td>\n",
       "      <td>12.448521</td>\n",
       "      <td>1.817246</td>\n",
       "      <td>1016.447654</td>\n",
       "      <td>0.194916</td>\n",
       "      <td>0.052734</td>\n",
       "      <td>23.889140</td>\n",
       "    </tr>\n",
       "    <tr>\n",
       "      <th>std</th>\n",
       "      <td>89.853296</td>\n",
       "      <td>12.198613</td>\n",
       "      <td>14.433440</td>\n",
       "      <td>10.268698</td>\n",
       "      <td>1.415867</td>\n",
       "      <td>0.760375</td>\n",
       "      <td>50.010635</td>\n",
       "    </tr>\n",
       "    <tr>\n",
       "      <th>min</th>\n",
       "      <td>0.000000</td>\n",
       "      <td>-19.000000</td>\n",
       "      <td>-40.000000</td>\n",
       "      <td>991.000000</td>\n",
       "      <td>0.000000</td>\n",
       "      <td>0.000000</td>\n",
       "      <td>0.450000</td>\n",
       "    </tr>\n",
       "    <tr>\n",
       "      <th>25%</th>\n",
       "      <td>31.000000</td>\n",
       "      <td>2.000000</td>\n",
       "      <td>-10.000000</td>\n",
       "      <td>1008.000000</td>\n",
       "      <td>0.000000</td>\n",
       "      <td>0.000000</td>\n",
       "      <td>1.790000</td>\n",
       "    </tr>\n",
       "    <tr>\n",
       "      <th>50%</th>\n",
       "      <td>77.000000</td>\n",
       "      <td>14.000000</td>\n",
       "      <td>2.000000</td>\n",
       "      <td>1016.000000</td>\n",
       "      <td>0.000000</td>\n",
       "      <td>0.000000</td>\n",
       "      <td>5.370000</td>\n",
       "    </tr>\n",
       "    <tr>\n",
       "      <th>75%</th>\n",
       "      <td>132.000000</td>\n",
       "      <td>23.000000</td>\n",
       "      <td>15.000000</td>\n",
       "      <td>1025.000000</td>\n",
       "      <td>0.000000</td>\n",
       "      <td>0.000000</td>\n",
       "      <td>21.910000</td>\n",
       "    </tr>\n",
       "    <tr>\n",
       "      <th>max</th>\n",
       "      <td>994.000000</td>\n",
       "      <td>42.000000</td>\n",
       "      <td>28.000000</td>\n",
       "      <td>1046.000000</td>\n",
       "      <td>36.000000</td>\n",
       "      <td>27.000000</td>\n",
       "      <td>585.600000</td>\n",
       "    </tr>\n",
       "  </tbody>\n",
       "</table>\n",
       "</div>"
      ],
      "text/plain": [
       "              pm2.5          TEMP          DEWP          PRES            Ir  \\\n",
       "count  43824.000000  43824.000000  43824.000000  43824.000000  43824.000000   \n",
       "mean      98.613215     12.448521      1.817246   1016.447654      0.194916   \n",
       "std       89.853296     12.198613     14.433440     10.268698      1.415867   \n",
       "min        0.000000    -19.000000    -40.000000    991.000000      0.000000   \n",
       "25%       31.000000      2.000000    -10.000000   1008.000000      0.000000   \n",
       "50%       77.000000     14.000000      2.000000   1016.000000      0.000000   \n",
       "75%      132.000000     23.000000     15.000000   1025.000000      0.000000   \n",
       "max      994.000000     42.000000     28.000000   1046.000000     36.000000   \n",
       "\n",
       "                 Is           Iws  \n",
       "count  43824.000000  43824.000000  \n",
       "mean       0.052734     23.889140  \n",
       "std        0.760375     50.010635  \n",
       "min        0.000000      0.450000  \n",
       "25%        0.000000      1.790000  \n",
       "50%        0.000000      5.370000  \n",
       "75%        0.000000     21.910000  \n",
       "max       27.000000    585.600000  "
      ]
     },
     "execution_count": 26,
     "metadata": {},
     "output_type": "execute_result"
    }
   ],
   "source": [
    "df.describe()"
   ]
  },
  {
   "cell_type": "markdown",
   "metadata": {},
   "source": [
    "Usually, in classic settings, there is multiple independent sequences $X$, each with a corresponding $y$.\n",
    "However, if often happens that we don't have access to multiple sequences $X$, but to only one very long sequence as it is the case here. From that, experts usually split them into multiple sub-sequences.\n",
    "\n",
    "\n",
    "❓ **Question** ❓ Write a function that is able to get a subsequence $X$ and a corresponding $y$ which corresponds to the air pollution **5 days** after the last observation. The length of the subsequence should be an argument of the function"
   ]
  },
  {
   "cell_type": "code",
   "execution_count": 4,
   "metadata": {},
   "outputs": [
    {
     "data": {
      "text/plain": [
       "(array([[3.100e+01, 3.200e+01, 1.800e+01, 9.980e+02, 0.000e+00, 0.000e+00,\n",
       "         1.878e+01],\n",
       "        [5.000e+01, 3.100e+01, 2.100e+01, 9.990e+02, 0.000e+00, 0.000e+00,\n",
       "         2.280e+01],\n",
       "        [5.900e+01, 2.900e+01, 2.200e+01, 1.000e+03, 0.000e+00, 0.000e+00,\n",
       "         8.900e-01],\n",
       "        [5.800e+01, 3.100e+01, 2.200e+01, 1.001e+03, 0.000e+00, 0.000e+00,\n",
       "         4.920e+00],\n",
       "        [2.700e+01, 2.800e+01, 1.900e+01, 1.000e+03, 0.000e+00, 0.000e+00,\n",
       "         1.790e+00],\n",
       "        [5.000e+01, 2.500e+01, 1.800e+01, 1.000e+03, 0.000e+00, 0.000e+00,\n",
       "         4.920e+00],\n",
       "        [3.000e+01, 2.400e+01, 1.900e+01, 1.000e+03, 0.000e+00, 0.000e+00,\n",
       "         8.050e+00],\n",
       "        [3.100e+01, 2.200e+01, 1.800e+01, 1.000e+03, 0.000e+00, 0.000e+00,\n",
       "         1.207e+01],\n",
       "        [2.600e+01, 2.200e+01, 1.800e+01, 1.000e+03, 0.000e+00, 0.000e+00,\n",
       "         1.520e+01],\n",
       "        [2.400e+01, 2.100e+01, 1.800e+01, 1.000e+03, 0.000e+00, 0.000e+00,\n",
       "         1.699e+01]]),\n",
       " 22.0)"
      ]
     },
     "execution_count": 4,
     "metadata": {},
     "output_type": "execute_result"
    }
   ],
   "source": [
    "import numpy as np\n",
    "\n",
    "def subsample_sequence(df, length):\n",
    "    # $CHALLENGIFY_BEGIN\n",
    "    last_possible = df.shape[0] - length - 5\n",
    "    \n",
    "    random_start = np.random.randint(0, last_possible)\n",
    "    X = df[random_start: random_start+length].values\n",
    "    y = df.iloc[random_start+length+5]['pm2.5']\n",
    "    # $CHALLENGIFY_END\n",
    "    return X, y\n",
    "\n",
    "subsample_sequence(df, 10)"
   ]
  },
  {
   "cell_type": "markdown",
   "metadata": {},
   "source": [
    "❓ **Question** ❓ Given a list of integers, write a function that split the initial dataset as many times as there are integers in the list. The length of each sequence is the value of the integer in that list."
   ]
  },
  {
   "cell_type": "code",
   "execution_count": 5,
   "metadata": {},
   "outputs": [],
   "source": [
    "def get_X_y(df, length_of_observations):\n",
    "    X, y = [], []\n",
    "    # $CHALLENGIFY_BEGIN\n",
    "    for length in length_of_observations:\n",
    "        xi, yi = subsample_sequence(df, length)\n",
    "        X.append(xi)\n",
    "        y.append(yi)\n",
    "    # $CHALLENGIFY_END\n",
    "    return X, y\n",
    "\n",
    "length_of_observations = np.random.randint(10, 15, 100)\n",
    "X, y = get_X_y(df, length_of_observations)"
   ]
  },
  {
   "cell_type": "markdown",
   "metadata": {},
   "source": [
    "❓ **Question** ❓ If you split into a train and test set _after_ creating the shorter sequences, you risk having same values in the train and test set, which corresponds to data leakage. Therefore, split your train and test set and then, get your training and test sequences - and the corresponding output.\n",
    "\n",
    "❗️ Beware of the gap required between train and test!"
   ]
  },
  {
   "cell_type": "code",
   "execution_count": 8,
   "metadata": {
    "tags": [
     "delete"
    ]
   },
   "outputs": [],
   "source": [
    "horizon = 5\n",
    "gap = horizon - 1\n",
    "\n",
    "len_ = int(0.8*df.shape[0])\n",
    "\n",
    "df_train = df[:len_]\n",
    "df_test = df[len_+gap:]"
   ]
  },
  {
   "cell_type": "code",
   "execution_count": 9,
   "metadata": {},
   "outputs": [],
   "source": [
    "length_of_observations = np.random.randint(10, 15, 100)\n",
    "X_train, y_train = get_X_y(df, length_of_observations)\n",
    "\n",
    "length_of_observations = np.random.randint(10, 15, 100)\n",
    "X_test, y_test = get_X_y(df, length_of_observations)"
   ]
  },
  {
   "cell_type": "markdown",
   "metadata": {},
   "source": [
    "Each sequence has a certain number of observations. But across sequences, this number of observations is not the same. Because the Neural Network is trained with *batches* of data, you must ensure that, once the sequences are concatenated, they can be represented as a tensor. This operation is called the padding\n",
    "\n",
    "❓ From the four sequences above, return a padded tensor (with the dedicated Keras function) and plot it."
   ]
  },
  {
   "cell_type": "code",
   "execution_count": 10,
   "metadata": {},
   "outputs": [
    {
     "data": {
      "text/plain": [
       "(100, 14, 7)"
      ]
     },
     "execution_count": 10,
     "metadata": {},
     "output_type": "execute_result"
    }
   ],
   "source": [
    "from tensorflow.keras.preprocessing.sequence import pad_sequences\n",
    "# $CHALLENGIFY_BEGIN\n",
    "X_train_pad = pad_sequences(X_train, dtype='float32', value=-1)\n",
    "# $CHALLENGIFY_END\n",
    "\n",
    "X_train_pad.shape"
   ]
  },
  {
   "cell_type": "markdown",
   "metadata": {},
   "source": [
    "## Model\n",
    "\n",
    "As you added data to your input just for computational reasons, your model has to know which one is useful or not. \n",
    "\n",
    "❓ Initialize a model and add a masking layer so that your model does not take the padded values into account. You have to tell which value you used for the padding"
   ]
  },
  {
   "cell_type": "code",
   "execution_count": 11,
   "metadata": {},
   "outputs": [],
   "source": [
    "from tensorflow.keras import Sequential, layers\n",
    "from tensorflow.keras.layers import Normalization"
   ]
  },
  {
   "cell_type": "code",
   "execution_count": 20,
   "metadata": {
    "tags": [
     "challengify"
    ]
   },
   "outputs": [],
   "source": [
    "normalizer = Normalization()\n",
    "normalizer.adapt(X_train_pad)\n",
    "\n",
    "model = Sequential()\n",
    "model.add(normalizer)\n",
    "model.add(layers.Masking(mask_value=-1))\n",
    "model.add(layers.LSTM(10, activation='tanh'))\n",
    "model.add(layers.Dense(10, activation='relu'))\n",
    "model.add(layers.Dense(1, activation='linear'))"
   ]
  },
  {
   "cell_type": "code",
   "execution_count": 21,
   "metadata": {
    "tags": [
     "delete"
    ]
   },
   "outputs": [
    {
     "name": "stdout",
     "output_type": "stream",
     "text": [
      "Model: \"sequential_1\"\n",
      "_________________________________________________________________\n",
      " Layer (type)                Output Shape              Param #   \n",
      "=================================================================\n",
      " normalization_1 (Normalizat  (None, None, 7)          15        \n",
      " ion)                                                            \n",
      "                                                                 \n",
      " masking_1 (Masking)         (None, None, 7)           0         \n",
      "                                                                 \n",
      " lstm_1 (LSTM)               (None, 10)                720       \n",
      "                                                                 \n",
      " dense_2 (Dense)             (None, 10)                110       \n",
      "                                                                 \n",
      " dense_3 (Dense)             (None, 1)                 11        \n",
      "                                                                 \n",
      "=================================================================\n",
      "Total params: 856\n",
      "Trainable params: 841\n",
      "Non-trainable params: 15\n",
      "_________________________________________________________________\n"
     ]
    }
   ],
   "source": [
    "model.summary()"
   ]
  },
  {
   "cell_type": "markdown",
   "metadata": {},
   "source": [
    "❓ Compile your model"
   ]
  },
  {
   "cell_type": "code",
   "execution_count": 22,
   "metadata": {
    "tags": [
     "challengify"
    ]
   },
   "outputs": [],
   "source": [
    "from tensorflow.keras.optimizers import RMSprop\n",
    "from tensorflow.keras.metrics import MAPE\n",
    "model.compile(loss='mse', optimizer=RMSprop(learning_rate=0.01), metrics=MAPE)"
   ]
  },
  {
   "cell_type": "markdown",
   "metadata": {},
   "source": [
    "❓ Train your model on the data"
   ]
  },
  {
   "cell_type": "code",
   "execution_count": 23,
   "metadata": {
    "tags": [
     "challengify"
    ]
   },
   "outputs": [
    {
     "name": "stdout",
     "output_type": "stream",
     "text": [
      "Epoch 1/100\n",
      "2/2 [==============================] - 4s 1s/step - loss: 27065.4180 - mean_absolute_percentage_error: 99.8779 - val_loss: 16562.6680 - val_mean_absolute_percentage_error: 98.4985\n",
      "Epoch 2/100\n",
      "2/2 [==============================] - 0s 26ms/step - loss: 26888.0547 - mean_absolute_percentage_error: 99.0281 - val_loss: 16383.2646 - val_mean_absolute_percentage_error: 96.2971\n",
      "Epoch 3/100\n",
      "2/2 [==============================] - 0s 28ms/step - loss: 26598.7246 - mean_absolute_percentage_error: 97.5555 - val_loss: 16066.3779 - val_mean_absolute_percentage_error: 92.1551\n",
      "Epoch 4/100\n",
      "2/2 [==============================] - 0s 28ms/step - loss: 26162.3086 - mean_absolute_percentage_error: 94.9189 - val_loss: 15663.6094 - val_mean_absolute_percentage_error: 85.7176\n",
      "Epoch 5/100\n",
      "2/2 [==============================] - 0s 31ms/step - loss: 25670.1992 - mean_absolute_percentage_error: 91.4122 - val_loss: 15320.0303 - val_mean_absolute_percentage_error: 82.5309\n",
      "Epoch 6/100\n",
      "2/2 [==============================] - 0s 34ms/step - loss: 25210.4336 - mean_absolute_percentage_error: 88.2160 - val_loss: 14985.2627 - val_mean_absolute_percentage_error: 82.1302\n",
      "Epoch 7/100\n",
      "2/2 [==============================] - 0s 28ms/step - loss: 24773.9238 - mean_absolute_percentage_error: 85.3693 - val_loss: 14546.2246 - val_mean_absolute_percentage_error: 81.9907\n",
      "Epoch 8/100\n",
      "2/2 [==============================] - 0s 27ms/step - loss: 24190.2188 - mean_absolute_percentage_error: 81.9937 - val_loss: 14066.0469 - val_mean_absolute_percentage_error: 82.8442\n",
      "Epoch 9/100\n",
      "2/2 [==============================] - 0s 30ms/step - loss: 23599.2715 - mean_absolute_percentage_error: 79.7321 - val_loss: 13714.0117 - val_mean_absolute_percentage_error: 83.4435\n",
      "Epoch 10/100\n",
      "2/2 [==============================] - 0s 36ms/step - loss: 23193.1348 - mean_absolute_percentage_error: 77.9765 - val_loss: 13429.2012 - val_mean_absolute_percentage_error: 84.6731\n",
      "Epoch 11/100\n",
      "2/2 [==============================] - 0s 41ms/step - loss: 22827.5078 - mean_absolute_percentage_error: 76.6329 - val_loss: 13065.6895 - val_mean_absolute_percentage_error: 86.4370\n",
      "Epoch 12/100\n",
      "2/2 [==============================] - 0s 28ms/step - loss: 22370.7598 - mean_absolute_percentage_error: 75.2727 - val_loss: 12807.0781 - val_mean_absolute_percentage_error: 88.1720\n",
      "Epoch 13/100\n",
      "2/2 [==============================] - 0s 28ms/step - loss: 22020.1562 - mean_absolute_percentage_error: 74.3720 - val_loss: 12440.2080 - val_mean_absolute_percentage_error: 90.8711\n",
      "Epoch 14/100\n",
      "2/2 [==============================] - 0s 28ms/step - loss: 21541.1875 - mean_absolute_percentage_error: 73.1196 - val_loss: 12111.9336 - val_mean_absolute_percentage_error: 93.1224\n",
      "Epoch 15/100\n",
      "2/2 [==============================] - 0s 26ms/step - loss: 21116.8867 - mean_absolute_percentage_error: 72.1772 - val_loss: 11870.4082 - val_mean_absolute_percentage_error: 95.0785\n",
      "Epoch 16/100\n",
      "2/2 [==============================] - 0s 28ms/step - loss: 20779.1465 - mean_absolute_percentage_error: 71.4371 - val_loss: 11549.5312 - val_mean_absolute_percentage_error: 97.7764\n",
      "Epoch 17/100\n",
      "2/2 [==============================] - 0s 26ms/step - loss: 20329.2656 - mean_absolute_percentage_error: 71.1181 - val_loss: 11233.8770 - val_mean_absolute_percentage_error: 100.5713\n",
      "Epoch 18/100\n",
      "2/2 [==============================] - 0s 26ms/step - loss: 19889.8867 - mean_absolute_percentage_error: 71.2097 - val_loss: 10911.5020 - val_mean_absolute_percentage_error: 103.6821\n",
      "Epoch 19/100\n",
      "2/2 [==============================] - 0s 23ms/step - loss: 19435.5547 - mean_absolute_percentage_error: 71.4380 - val_loss: 10594.4424 - val_mean_absolute_percentage_error: 107.1681\n",
      "Epoch 20/100\n",
      "2/2 [==============================] - 0s 28ms/step - loss: 18994.6113 - mean_absolute_percentage_error: 71.5668 - val_loss: 10374.7949 - val_mean_absolute_percentage_error: 109.6693\n",
      "Epoch 21/100\n",
      "2/2 [==============================] - 0s 30ms/step - loss: 18679.0742 - mean_absolute_percentage_error: 71.8230 - val_loss: 10172.0908 - val_mean_absolute_percentage_error: 112.2688\n",
      "Epoch 22/100\n",
      "2/2 [==============================] - 0s 29ms/step - loss: 18381.9395 - mean_absolute_percentage_error: 71.8712 - val_loss: 9944.3662 - val_mean_absolute_percentage_error: 115.3394\n",
      "Epoch 23/100\n",
      "2/2 [==============================] - 0s 27ms/step - loss: 18047.0801 - mean_absolute_percentage_error: 72.4528 - val_loss: 9699.0957 - val_mean_absolute_percentage_error: 118.8012\n",
      "Epoch 24/100\n",
      "2/2 [==============================] - 0s 28ms/step - loss: 17686.8887 - mean_absolute_percentage_error: 72.6242 - val_loss: 9468.3770 - val_mean_absolute_percentage_error: 122.1946\n",
      "Epoch 25/100\n",
      "2/2 [==============================] - 0s 28ms/step - loss: 17329.1172 - mean_absolute_percentage_error: 72.9745 - val_loss: 9155.7383 - val_mean_absolute_percentage_error: 127.0299\n",
      "Epoch 26/100\n",
      "2/2 [==============================] - 0s 25ms/step - loss: 16863.9004 - mean_absolute_percentage_error: 74.0303 - val_loss: 8914.5479 - val_mean_absolute_percentage_error: 131.3408\n",
      "Epoch 27/100\n",
      "2/2 [==============================] - 0s 25ms/step - loss: 16509.1992 - mean_absolute_percentage_error: 75.2062 - val_loss: 8798.6943 - val_mean_absolute_percentage_error: 133.6248\n",
      "Epoch 28/100\n",
      "2/2 [==============================] - 0s 26ms/step - loss: 16289.8213 - mean_absolute_percentage_error: 75.3453 - val_loss: 8454.7871 - val_mean_absolute_percentage_error: 141.0884\n",
      "Epoch 29/100\n",
      "2/2 [==============================] - 0s 25ms/step - loss: 15774.9717 - mean_absolute_percentage_error: 77.0565 - val_loss: 8329.3789 - val_mean_absolute_percentage_error: 144.0026\n",
      "Epoch 30/100\n",
      "2/2 [==============================] - 0s 27ms/step - loss: 15550.3682 - mean_absolute_percentage_error: 77.6212 - val_loss: 8075.1172 - val_mean_absolute_percentage_error: 150.3750\n",
      "Epoch 31/100\n",
      "2/2 [==============================] - 0s 28ms/step - loss: 15143.9443 - mean_absolute_percentage_error: 79.0437 - val_loss: 7921.2417 - val_mean_absolute_percentage_error: 154.5801\n",
      "Epoch 32/100\n",
      "2/2 [==============================] - 0s 28ms/step - loss: 14889.8389 - mean_absolute_percentage_error: 80.2384 - val_loss: 7810.7451 - val_mean_absolute_percentage_error: 157.7350\n",
      "Epoch 33/100\n",
      "2/2 [==============================] - 0s 29ms/step - loss: 14676.0254 - mean_absolute_percentage_error: 80.7908 - val_loss: 7569.3774 - val_mean_absolute_percentage_error: 165.1109\n",
      "Epoch 34/100\n",
      "2/2 [==============================] - 0s 29ms/step - loss: 14253.7637 - mean_absolute_percentage_error: 82.7166 - val_loss: 7382.6831 - val_mean_absolute_percentage_error: 171.4008\n",
      "Epoch 35/100\n",
      "2/2 [==============================] - 0s 25ms/step - loss: 13926.9473 - mean_absolute_percentage_error: 84.4688 - val_loss: 7318.0239 - val_mean_absolute_percentage_error: 173.7198\n",
      "Epoch 36/100\n",
      "2/2 [==============================] - 0s 47ms/step - loss: 13791.3906 - mean_absolute_percentage_error: 84.9046 - val_loss: 7188.6772 - val_mean_absolute_percentage_error: 178.8551\n",
      "Epoch 37/100\n",
      "2/2 [==============================] - 0s 51ms/step - loss: 13544.8525 - mean_absolute_percentage_error: 86.7086 - val_loss: 7109.0752 - val_mean_absolute_percentage_error: 182.3792\n",
      "Epoch 38/100\n",
      "2/2 [==============================] - 0s 27ms/step - loss: 13376.1523 - mean_absolute_percentage_error: 87.3731 - val_loss: 7000.5151 - val_mean_absolute_percentage_error: 187.5535\n",
      "Epoch 39/100\n",
      "2/2 [==============================] - 0s 30ms/step - loss: 13129.0215 - mean_absolute_percentage_error: 89.0548 - val_loss: 6830.3525 - val_mean_absolute_percentage_error: 196.7941\n",
      "Epoch 40/100\n",
      "2/2 [==============================] - 0s 30ms/step - loss: 12748.3975 - mean_absolute_percentage_error: 91.8458 - val_loss: 6711.9204 - val_mean_absolute_percentage_error: 203.2289\n",
      "Epoch 41/100\n",
      "2/2 [==============================] - 0s 52ms/step - loss: 12483.4854 - mean_absolute_percentage_error: 93.8469 - val_loss: 6668.4004 - val_mean_absolute_percentage_error: 207.8401\n",
      "Epoch 42/100\n",
      "2/2 [==============================] - 0s 30ms/step - loss: 12336.6914 - mean_absolute_percentage_error: 95.7972 - val_loss: 6631.1621 - val_mean_absolute_percentage_error: 210.8088\n",
      "Epoch 43/100\n",
      "2/2 [==============================] - 0s 38ms/step - loss: 12210.9561 - mean_absolute_percentage_error: 96.5122 - val_loss: 6542.9600 - val_mean_absolute_percentage_error: 219.5445\n",
      "Epoch 44/100\n",
      "2/2 [==============================] - 0s 35ms/step - loss: 11931.9941 - mean_absolute_percentage_error: 99.7323 - val_loss: 6497.7026 - val_mean_absolute_percentage_error: 224.4029\n",
      "Epoch 45/100\n",
      "2/2 [==============================] - 0s 51ms/step - loss: 11773.9648 - mean_absolute_percentage_error: 101.6945 - val_loss: 6455.0464 - val_mean_absolute_percentage_error: 229.5882\n",
      "Epoch 46/100\n",
      "2/2 [==============================] - 0s 30ms/step - loss: 11617.6240 - mean_absolute_percentage_error: 103.6904 - val_loss: 6400.9927 - val_mean_absolute_percentage_error: 230.8041\n",
      "Epoch 47/100\n",
      "2/2 [==============================] - 0s 25ms/step - loss: 11501.9678 - mean_absolute_percentage_error: 103.7639 - val_loss: 6406.0571 - val_mean_absolute_percentage_error: 238.2903\n",
      "Epoch 48/100\n",
      "2/2 [==============================] - 0s 27ms/step - loss: 11380.0674 - mean_absolute_percentage_error: 107.2906 - val_loss: 6301.6616 - val_mean_absolute_percentage_error: 237.6477\n",
      "Epoch 49/100\n",
      "2/2 [==============================] - 0s 30ms/step - loss: 11251.0957 - mean_absolute_percentage_error: 108.3899 - val_loss: 6206.2710 - val_mean_absolute_percentage_error: 231.1830\n",
      "Epoch 50/100\n",
      "2/2 [==============================] - 0s 30ms/step - loss: 11160.9590 - mean_absolute_percentage_error: 108.4187 - val_loss: 6145.5737 - val_mean_absolute_percentage_error: 238.1393\n",
      "Epoch 51/100\n",
      "2/2 [==============================] - 0s 35ms/step - loss: 10955.1826 - mean_absolute_percentage_error: 110.5157 - val_loss: 6296.9502 - val_mean_absolute_percentage_error: 256.5204\n",
      "Epoch 52/100\n",
      "2/2 [==============================] - 0s 34ms/step - loss: 10859.6123 - mean_absolute_percentage_error: 118.0247 - val_loss: 6222.2490 - val_mean_absolute_percentage_error: 254.8180\n",
      "Epoch 53/100\n",
      "2/2 [==============================] - 0s 49ms/step - loss: 10723.9492 - mean_absolute_percentage_error: 119.6930 - val_loss: 6244.6655 - val_mean_absolute_percentage_error: 263.8880\n",
      "Epoch 54/100\n",
      "2/2 [==============================] - 0s 31ms/step - loss: 10551.6367 - mean_absolute_percentage_error: 123.7160 - val_loss: 6148.1045 - val_mean_absolute_percentage_error: 260.0423\n",
      "Epoch 55/100\n",
      "2/2 [==============================] - 0s 29ms/step - loss: 10484.5088 - mean_absolute_percentage_error: 120.5412 - val_loss: 6020.0952 - val_mean_absolute_percentage_error: 254.5496\n",
      "Epoch 56/100\n",
      "2/2 [==============================] - 0s 30ms/step - loss: 10397.3291 - mean_absolute_percentage_error: 116.8841 - val_loss: 6076.7471 - val_mean_absolute_percentage_error: 263.4098\n",
      "Epoch 57/100\n",
      "2/2 [==============================] - 0s 28ms/step - loss: 10379.1768 - mean_absolute_percentage_error: 121.7530 - val_loss: 6038.6597 - val_mean_absolute_percentage_error: 271.0835\n",
      "Epoch 58/100\n",
      "2/2 [==============================] - 0s 51ms/step - loss: 10148.8125 - mean_absolute_percentage_error: 124.9174 - val_loss: 5372.3525 - val_mean_absolute_percentage_error: 229.3948\n",
      "Epoch 59/100\n",
      "2/2 [==============================] - 0s 27ms/step - loss: 9733.6348 - mean_absolute_percentage_error: 104.6056 - val_loss: 5834.3872 - val_mean_absolute_percentage_error: 268.2959\n",
      "Epoch 60/100\n",
      "2/2 [==============================] - 0s 27ms/step - loss: 9834.0674 - mean_absolute_percentage_error: 121.7296 - val_loss: 5484.4561 - val_mean_absolute_percentage_error: 238.3747\n",
      "Epoch 61/100\n",
      "2/2 [==============================] - 0s 25ms/step - loss: 9605.5596 - mean_absolute_percentage_error: 113.1623 - val_loss: 5257.8921 - val_mean_absolute_percentage_error: 217.2317\n",
      "Epoch 62/100\n",
      "2/2 [==============================] - 0s 28ms/step - loss: 9457.9463 - mean_absolute_percentage_error: 112.1075 - val_loss: 5466.8999 - val_mean_absolute_percentage_error: 252.0570\n",
      "Epoch 63/100\n",
      "2/2 [==============================] - 0s 25ms/step - loss: 9371.6924 - mean_absolute_percentage_error: 117.8808 - val_loss: 5224.0825 - val_mean_absolute_percentage_error: 233.2431\n",
      "Epoch 64/100\n",
      "2/2 [==============================] - 0s 31ms/step - loss: 9102.9082 - mean_absolute_percentage_error: 112.4491 - val_loss: 4893.5542 - val_mean_absolute_percentage_error: 208.0788\n",
      "Epoch 65/100\n",
      "2/2 [==============================] - 0s 28ms/step - loss: 8898.3018 - mean_absolute_percentage_error: 102.3993 - val_loss: 4692.2896 - val_mean_absolute_percentage_error: 189.8683\n",
      "Epoch 66/100\n",
      "2/2 [==============================] - 0s 30ms/step - loss: 8827.9521 - mean_absolute_percentage_error: 98.9577 - val_loss: 4542.6050 - val_mean_absolute_percentage_error: 189.3625\n",
      "Epoch 67/100\n",
      "2/2 [==============================] - 0s 27ms/step - loss: 8920.7793 - mean_absolute_percentage_error: 88.2660 - val_loss: 4705.8618 - val_mean_absolute_percentage_error: 185.0946\n",
      "Epoch 68/100\n",
      "2/2 [==============================] - 0s 26ms/step - loss: 8890.8604 - mean_absolute_percentage_error: 86.5209 - val_loss: 4821.9795 - val_mean_absolute_percentage_error: 178.8387\n",
      "Epoch 69/100\n",
      "2/2 [==============================] - 0s 46ms/step - loss: 8802.5400 - mean_absolute_percentage_error: 82.7335 - val_loss: 4419.7964 - val_mean_absolute_percentage_error: 188.3767\n",
      "Epoch 70/100\n",
      "2/2 [==============================] - 0s 40ms/step - loss: 8201.6826 - mean_absolute_percentage_error: 88.8152 - val_loss: 4247.0093 - val_mean_absolute_percentage_error: 198.6355\n",
      "Epoch 71/100\n",
      "2/2 [==============================] - 0s 31ms/step - loss: 8011.7886 - mean_absolute_percentage_error: 95.4488 - val_loss: 4576.8970 - val_mean_absolute_percentage_error: 175.2202\n",
      "Epoch 72/100\n",
      "2/2 [==============================] - 0s 31ms/step - loss: 8127.6797 - mean_absolute_percentage_error: 83.5179 - val_loss: 4557.9419 - val_mean_absolute_percentage_error: 199.6946\n",
      "Epoch 73/100\n",
      "2/2 [==============================] - 0s 35ms/step - loss: 7741.7046 - mean_absolute_percentage_error: 90.6736 - val_loss: 4347.2603 - val_mean_absolute_percentage_error: 198.5779\n",
      "Epoch 74/100\n",
      "2/2 [==============================] - 0s 28ms/step - loss: 7576.2437 - mean_absolute_percentage_error: 89.9526 - val_loss: 4277.5947 - val_mean_absolute_percentage_error: 188.4798\n",
      "Epoch 75/100\n",
      "2/2 [==============================] - 0s 29ms/step - loss: 7482.7783 - mean_absolute_percentage_error: 84.9317 - val_loss: 4309.5044 - val_mean_absolute_percentage_error: 190.6838\n",
      "Epoch 76/100\n",
      "2/2 [==============================] - 0s 28ms/step - loss: 7244.3203 - mean_absolute_percentage_error: 83.6688 - val_loss: 4446.8857 - val_mean_absolute_percentage_error: 201.3357\n",
      "Epoch 77/100\n",
      "2/2 [==============================] - 0s 50ms/step - loss: 7204.8833 - mean_absolute_percentage_error: 88.4022 - val_loss: 4136.7319 - val_mean_absolute_percentage_error: 195.8973\n",
      "Epoch 78/100\n",
      "2/2 [==============================] - 0s 50ms/step - loss: 7142.4780 - mean_absolute_percentage_error: 77.2932 - val_loss: 4349.4297 - val_mean_absolute_percentage_error: 235.0682\n",
      "Epoch 79/100\n",
      "2/2 [==============================] - 0s 28ms/step - loss: 7208.5957 - mean_absolute_percentage_error: 91.3553 - val_loss: 4150.8872 - val_mean_absolute_percentage_error: 207.3934\n",
      "Epoch 80/100\n",
      "2/2 [==============================] - 0s 34ms/step - loss: 6847.2217 - mean_absolute_percentage_error: 77.9156 - val_loss: 4292.0601 - val_mean_absolute_percentage_error: 228.9662\n",
      "Epoch 81/100\n",
      "2/2 [==============================] - 0s 49ms/step - loss: 6716.6582 - mean_absolute_percentage_error: 89.4090 - val_loss: 3969.1555 - val_mean_absolute_percentage_error: 186.2375\n",
      "Epoch 82/100\n",
      "2/2 [==============================] - 0s 52ms/step - loss: 6697.5562 - mean_absolute_percentage_error: 67.8021 - val_loss: 3969.7188 - val_mean_absolute_percentage_error: 205.6014\n",
      "Epoch 83/100\n",
      "2/2 [==============================] - 0s 48ms/step - loss: 6403.4556 - mean_absolute_percentage_error: 77.7396 - val_loss: 4212.4751 - val_mean_absolute_percentage_error: 188.6519\n",
      "Epoch 84/100\n",
      "2/2 [==============================] - 0s 33ms/step - loss: 6384.3833 - mean_absolute_percentage_error: 65.5790 - val_loss: 4158.6841 - val_mean_absolute_percentage_error: 213.6652\n",
      "Epoch 85/100\n",
      "2/2 [==============================] - 0s 30ms/step - loss: 6173.1870 - mean_absolute_percentage_error: 73.1660 - val_loss: 4413.8931 - val_mean_absolute_percentage_error: 227.7929\n",
      "Epoch 86/100\n",
      "2/2 [==============================] - 0s 29ms/step - loss: 6249.4360 - mean_absolute_percentage_error: 78.7276 - val_loss: 4148.7197 - val_mean_absolute_percentage_error: 203.1130\n",
      "Epoch 87/100\n",
      "2/2 [==============================] - 0s 29ms/step - loss: 6066.4683 - mean_absolute_percentage_error: 69.3444 - val_loss: 4015.9153 - val_mean_absolute_percentage_error: 198.6175\n",
      "Epoch 88/100\n",
      "2/2 [==============================] - 0s 25ms/step - loss: 5907.3418 - mean_absolute_percentage_error: 66.5478 - val_loss: 4122.7676 - val_mean_absolute_percentage_error: 210.4658\n",
      "Epoch 89/100\n",
      "2/2 [==============================] - 0s 25ms/step - loss: 5700.5576 - mean_absolute_percentage_error: 69.8371 - val_loss: 4291.8135 - val_mean_absolute_percentage_error: 198.9186\n",
      "Epoch 90/100\n",
      "2/2 [==============================] - 0s 30ms/step - loss: 5740.8442 - mean_absolute_percentage_error: 63.7295 - val_loss: 4134.0923 - val_mean_absolute_percentage_error: 219.3621\n",
      "Epoch 91/100\n",
      "2/2 [==============================] - 0s 33ms/step - loss: 5706.7720 - mean_absolute_percentage_error: 62.9348 - val_loss: 4375.5879 - val_mean_absolute_percentage_error: 224.3772\n",
      "Epoch 92/100\n",
      "2/2 [==============================] - 0s 29ms/step - loss: 5607.0981 - mean_absolute_percentage_error: 71.1834 - val_loss: 4211.7036 - val_mean_absolute_percentage_error: 188.9080\n",
      "Epoch 93/100\n",
      "2/2 [==============================] - 0s 25ms/step - loss: 5738.4116 - mean_absolute_percentage_error: 57.1885 - val_loss: 4543.7700 - val_mean_absolute_percentage_error: 218.5356\n",
      "Epoch 94/100\n",
      "2/2 [==============================] - 0s 28ms/step - loss: 5564.9141 - mean_absolute_percentage_error: 66.3662 - val_loss: 4469.9565 - val_mean_absolute_percentage_error: 218.8023\n",
      "Epoch 95/100\n",
      "2/2 [==============================] - 0s 26ms/step - loss: 5531.2061 - mean_absolute_percentage_error: 64.6813 - val_loss: 5515.7593 - val_mean_absolute_percentage_error: 281.1245\n",
      "Epoch 96/100\n",
      "2/2 [==============================] - 0s 51ms/step - loss: 6882.5107 - mean_absolute_percentage_error: 110.4855 - val_loss: 4645.8472 - val_mean_absolute_percentage_error: 209.7786\n",
      "Epoch 97/100\n",
      "2/2 [==============================] - 0s 35ms/step - loss: 5467.4390 - mean_absolute_percentage_error: 70.9616 - val_loss: 4624.3843 - val_mean_absolute_percentage_error: 240.8822\n",
      "Epoch 98/100\n",
      "2/2 [==============================] - 0s 36ms/step - loss: 5335.9141 - mean_absolute_percentage_error: 70.6182 - val_loss: 4517.6504 - val_mean_absolute_percentage_error: 226.4165\n",
      "Epoch 99/100\n",
      "2/2 [==============================] - 0s 48ms/step - loss: 5285.1162 - mean_absolute_percentage_error: 61.5223 - val_loss: 4510.7212 - val_mean_absolute_percentage_error: 226.7136\n",
      "Epoch 100/100\n",
      "2/2 [==============================] - 0s 25ms/step - loss: 5204.7163 - mean_absolute_percentage_error: 61.4059 - val_loss: 4645.2637 - val_mean_absolute_percentage_error: 249.1312\n"
     ]
    }
   ],
   "source": [
    "import numpy as np\n",
    "\n",
    "history = model.fit(X_train_pad, np.array(y_train), epochs=100, batch_size=64, validation_split=0.3)"
   ]
  },
  {
   "cell_type": "code",
   "execution_count": 25,
   "metadata": {},
   "outputs": [
    {
     "data": {
      "text/plain": [
       "<matplotlib.legend.Legend at 0x13e8e0c40>"
      ]
     },
     "execution_count": 25,
     "metadata": {},
     "output_type": "execute_result"
    },
    {
     "data": {
      "image/png": "[encoded data removed]",
      "text/plain": [
       "<Figure size 432x288 with 1 Axes>"
      ]
     },
     "metadata": {
      "needs_background": "light"
     },
     "output_type": "display_data"
    }
   ],
   "source": [
    "import matplotlib.pyplot as plt\n",
    "plt.plot(history.history['mean_absolute_percentage_error'])\n",
    "plt.plot(history.history['val_mean_absolute_percentage_error'])\n",
    "plt.legend(['train', 'test'])"
   ]
  },
  {
   "cell_type": "code",
   "execution_count": null,
   "metadata": {},
   "outputs": [],
   "source": []
  }
 ],
 "metadata": {
  "kernelspec": {
   "display_name": "Python 3 (ipykernel)",
   "language": "python",
   "name": "python3"
  },
  "language_info": {
   "codemirror_mode": {
    "name": "ipython",
    "version": 3
   },
   "file_extension": ".py",
   "mimetype": "text/x-python",
   "name": "python",
   "nbconvert_exporter": "python",
   "pygments_lexer": "ipython3",
   "version": "3.8.12"
  },
  "toc": {
   "base_numbering": 1,
   "nav_menu": {},
   "number_sections": false,
   "sideBar": true,
   "skip_h1_title": false,
   "title_cell": "Table of Contents",
   "title_sidebar": "Contents",
   "toc_cell": false,
   "toc_position": {},
   "toc_section_display": true,
   "toc_window_display": false
  }
 },
 "nbformat": 4,
 "nbformat_minor": 2
}
