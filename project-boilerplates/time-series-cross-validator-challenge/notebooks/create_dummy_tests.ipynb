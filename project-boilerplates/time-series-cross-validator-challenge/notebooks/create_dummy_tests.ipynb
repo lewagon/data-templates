{
 "cells": [
  {
   "cell_type": "markdown",
   "metadata": {},
   "source": [
    "## Create Unit tests for this project"
   ]
  },
  {
   "cell_type": "code",
   "execution_count": 1,
   "metadata": {
    "ExecuteTime": {
     "end_time": "2022-03-14T14:24:55.279012Z",
     "start_time": "2022-03-14T14:24:53.949004Z"
    }
   },
   "outputs": [],
   "source": [
    "import numpy as np\n",
    "import pandas as pd\n",
    "import matplotlib.pyplot as plt\n",
    "import os\n",
    "from ts_boilerplate.params import ROOT_DIR, DATA, TRAIN, CROSS_VAL\n",
    "from ts_boilerplate.data import get_X_y\n",
    "from ts_boilerplate.generate_dummy_data import generate_data_monotonic_increase, generate_data_zeros_and_ones, generate_X_y_zeros_and_ones\n",
    "\n",
    "%load_ext autoreload\n",
    "%autoreload 2"
   ]
  },
  {
   "cell_type": "markdown",
   "metadata": {},
   "source": [
    "## Let's create a dummy time series dataset whose value increment by 1 every day"
   ]
  },
  {
   "cell_type": "code",
   "execution_count": 2,
   "metadata": {},
   "outputs": [],
   "source": [
    "data = generate_data_monotonic_increase()\n",
    "data"
   ]
  },
  {
   "cell_type": "code",
   "execution_count": 3,
   "metadata": {
    "ExecuteTime": {
     "end_time": "2022-03-14T14:25:19.973275Z",
     "start_time": "2022-03-14T14:25:19.950901Z"
    }
   },
   "outputs": [],
   "source": [
    "data_df = pd.DataFrame(data)\n",
    "data_df"
   ]
  },
  {
   "cell_type": "code",
   "execution_count": 4,
   "metadata": {
    "ExecuteTime": {
     "end_time": "2022-03-14T14:29:22.811701Z",
     "start_time": "2022-03-14T14:29:22.758665Z"
    }
   },
   "outputs": [],
   "source": [
    "data_df.to_csv(os.path.join(ROOT_DIR, \"data\", \"raw\", \"data_dummy.csv\"), index=False)"
   ]
  },
  {
   "cell_type": "code",
   "execution_count": 5,
   "metadata": {
    "ExecuteTime": {
     "end_time": "2022-03-14T14:29:23.364705Z",
     "start_time": "2022-03-14T14:29:23.343210Z"
    }
   },
   "outputs": [],
   "source": [
    "pd.read_csv(os.path.join(ROOT_DIR, \"data\", \"raw\", \"data_dummy.csv\"))"
   ]
  },
  {
   "cell_type": "markdown",
   "metadata": {},
   "source": [
    "## getX_y"
   ]
  },
  {
   "cell_type": "code",
   "execution_count": 6,
   "metadata": {},
   "outputs": [],
   "source": [
    "X, y = get_X_y(data, **TRAIN)\n",
    "print(X.shape)\n",
    "print(y.shape)"
   ]
  },
  {
   "cell_type": "code",
   "execution_count": 7,
   "metadata": {},
   "outputs": [],
   "source": [
    "# Let's compute the shape arithmetically (for unittests)\n",
    "(len(data) \\\n",
    "            - (TRAIN['input_length']  -1) \\\n",
    "            - (TRAIN['output_length'] -1) \\\n",
    "            - TRAIN['horizon']) \\\n",
    "        / TRAIN[\"stride\"]"
   ]
  },
  {
   "cell_type": "markdown",
   "metadata": {},
   "source": [
    "☝️ ceiling rounding function should be used for stride > 1"
   ]
  },
  {
   "cell_type": "markdown",
   "metadata": {},
   "source": [
    "## Create train_test_split"
   ]
  },
  {
   "cell_type": "code",
   "execution_count": 8,
   "metadata": {},
   "outputs": [],
   "source": [
    "train_test_ratio = TRAIN[\"train_test_ratio\"]\n",
    "input_length = TRAIN[\"input_length\"]\n",
    "output_length = TRAIN[\"output_length\"]\n",
    "data.shape"
   ]
  },
  {
   "cell_type": "code",
   "execution_count": 9,
   "metadata": {},
   "outputs": [],
   "source": [
    "last_train_idx = round(train_test_ratio * len(data))\n",
    "data_train = data[0:last_train_idx, :]\n",
    "\n",
    "first_test_idx = last_train_idx - input_length\n",
    "data_test = data[first_test_idx:, :]"
   ]
  },
  {
   "cell_type": "code",
   "execution_count": 10,
   "metadata": {},
   "outputs": [],
   "source": [
    "data_train"
   ]
  },
  {
   "cell_type": "code",
   "execution_count": 11,
   "metadata": {},
   "outputs": [],
   "source": [
    "data_test"
   ]
  },
  {
   "cell_type": "code",
   "execution_count": 12,
   "metadata": {},
   "outputs": [],
   "source": [
    "X_train, y_train = get_X_y(data_train, **TRAIN)\n",
    "X_test, y_test = get_X_y(data_test, **TRAIN)\n",
    "print(\"####### Last train pair\")\n",
    "print(X_train[-1])\n",
    "print(y_train[-1])\n",
    "print(\"####### First test pair\")\n",
    "print(X_test[0])\n",
    "print(y_test[0])"
   ]
  },
  {
   "cell_type": "code",
   "execution_count": 13,
   "metadata": {},
   "outputs": [],
   "source": [
    "gap = np.min(y_test) - np.max(y_train)\n",
    "gap"
   ]
  },
  {
   "cell_type": "code",
   "execution_count": 14,
   "metadata": {},
   "outputs": [],
   "source": [
    "assert gap >= TRAIN[\"horizon\"], \"❗️❗️ Data leak detected between (X_train, y_train) and (X_test, y_test)❗️❗️ \""
   ]
  },
  {
   "cell_type": "markdown",
   "metadata": {},
   "source": [
    "## Create folds"
   ]
  },
  {
   "cell_type": "code",
   "execution_count": 15,
   "metadata": {},
   "outputs": [],
   "source": [
    "def get_folds(data: np.ndarray, fold_length: int, fold_stride: int):\n",
    "    folds = []\n",
    "    for i in range(0, len(data), fold_stride):\n",
    "        if (i+fold_length) > len(data):\n",
    "            break\n",
    "        fold = data[i:i+fold_length, :]\n",
    "        folds.append(fold)\n",
    "    return folds\n",
    "\n",
    "folds = get_folds(data, **CROSS_VAL)\n",
    "print('n_folds= ', len(folds))\n",
    "print(folds[-1])"
   ]
  },
  {
   "cell_type": "markdown",
   "metadata": {},
   "source": [
    "## Model"
   ]
  },
  {
   "cell_type": "code",
   "execution_count": 16,
   "metadata": {},
   "outputs": [],
   "source": [
    "import tensorflow as tf\n",
    "from keras.layers import Dense, SimpleRNN, Reshape"
   ]
  },
  {
   "cell_type": "code",
   "execution_count": 17,
   "metadata": {},
   "outputs": [],
   "source": [
    "model = tf.keras.Sequential()\n",
    "model.add(SimpleRNN(1, activation='tanh', input_shape=X_train.shape[1:]))\n",
    "model.add(Dense(TRAIN['output_length'] * DATA[\"n_targets\"], activation='linear'))\n",
    "model.add(Reshape(y_train.shape[1:]))\n",
    "model.compile(loss='mse', optimizer=tf.keras.optimizers.Adam(learning_rate=0.1), metrics=tf.keras.metrics.MAPE)\n",
    "print(model.summary())"
   ]
  },
  {
   "cell_type": "code",
   "execution_count": 18,
   "metadata": {},
   "outputs": [],
   "source": [
    "verbose = 0\n",
    "es = tf.keras.callbacks.EarlyStopping(monitor='val_loss',\n",
    "                                          patience=2,\n",
    "                                          verbose=verbose,\n",
    "                                          mode='min',\n",
    "                                          restore_best_weights=True)\n",
    "history = model.fit(X_train,\n",
    "                        y_train,\n",
    "                        epochs=50,\n",
    "                        batch_size=32,\n",
    "                        validation_split=0.3,\n",
    "                        callbacks=[es],\n",
    "                        verbose=verbose)"
   ]
  },
  {
   "cell_type": "code",
   "execution_count": 19,
   "metadata": {},
   "outputs": [],
   "source": [
    "y_test"
   ]
  },
  {
   "cell_type": "code",
   "execution_count": 20,
   "metadata": {},
   "outputs": [],
   "source": [
    "y_pred = model.predict(X_test)\n",
    "y_pred "
   ]
  },
  {
   "cell_type": "code",
   "execution_count": 23,
   "metadata": {},
   "outputs": [],
   "source": [
    "from ts_boilerplate.metrics import mape\n",
    "mape(y_test, y_pred)"
   ]
  }
 ],
 "metadata": {
  "interpreter": {
   "hash": "572b4e543617d03e90ecaf525e08695da1ff29b13594f787e33b342cf572f792"
  },
  "kernelspec": {
   "display_name": "Python 3 (ipykernel)",
   "language": "python",
   "name": "python3"
  },
  "language_info": {
   "codemirror_mode": {
    "name": "ipython",
    "version": 3
   },
   "file_extension": ".py",
   "mimetype": "text/x-python",
   "name": "python",
   "nbconvert_exporter": "python",
   "pygments_lexer": "ipython3",
   "version": "3.8.12"
  },
  "toc": {
   "base_numbering": 1,
   "nav_menu": {},
   "number_sections": false,
   "sideBar": true,
   "skip_h1_title": false,
   "title_cell": "Table of Contents",
   "title_sidebar": "Contents",
   "toc_cell": false,
   "toc_position": {},
   "toc_section_display": true,
   "toc_window_display": false
  }
 },
 "nbformat": 4,
 "nbformat_minor": 2
}
